{
 "cells": [
  {
   "cell_type": "markdown",
   "metadata": {},
   "source": [
    "# **Azure AI Agents with Knowledge Tools (Bing Search)**\n",
    "\n",
    "## Overview\n",
    "This notebook demonstrates how to create and use AI agents with knowledge tools in Azure AI Foundry. You'll learn how to enhance an AI agent's capabilities by integrating external knowledge sources like Bing search, allowing it to provide up-to-date information in response to user queries.\n",
    "\n",
    "### Stateless vs. Stateful APIs: Understanding the Difference\n",
    "\n",
    "#### **Completions API (Stateless)**\n",
    "In the previous notebooks, we used the OpenAI Completions API, which is **stateless**:\n",
    "- Each request is independent and does not retain memory of previous interactions.\n",
    "- Conversation history must be manually included in every request.\n",
    "- Simple request-response pattern with no built-in conversation management.\n",
    "\n",
    "```python\n",
    "# Stateless Completions API example\n",
    "response = client.chat.completions.create(\n",
    "    model=\"gpt-4o\",\n",
    "    messages=[\n",
    "        {\"role\": \"system\", \"content\": \"You are a helpful assistant.\"},\n",
    "        {\"role\": \"user\", \"content\": \"Tell me about Mars.\"}\n",
    "    ]\n",
    ")\n",
    "```\n",
    "\n",
    "\n",
    "#### **Agent API (Stateful) workflow**\n",
    "- Maintains conversation context through threads and runs.\n",
    "- Automatically manages conversation history and state.\n",
    "- Enables persistence of interactions for multi-turn conversations.\n",
    "\n",
    "**1. Create a thread (conversation container)**\n",
    "```python\n",
    "thread = project_client.agents.create_thread()\n",
    "```\n",
    "\n",
    "**2. Add messages to the thread**\n",
    "```python\n",
    "message = project_client.agents.create_message(\n",
    "    thread_id=thread.id,\n",
    "    role=\"user\",\n",
    "    content=\"Tell me about Mars.\"\n",
    ")\n",
    "```\n",
    "\n",
    "**3. Run the agent on the thread**\n",
    "```python\n",
    "python\n",
    "run = project_client.agents.create_and_process_run(\n",
    "    thread_id=thread.id, \n",
    "    agent_id=agent.id\n",
    ")\n",
    "```\n",
    "\n",
    "## Learning Objectives\n",
    "- Set up an Azure AI agent with access to Bing search capabilities\n",
    "- Configure system instructions for knowledge-grounded responses\n",
    "- Create and manage conversation threads\n",
    "- Send queries that require current information\n",
    "- Process responses that incorporate real-time search results\n",
    "- Implement proper citation formats for information sources\n",
    "\n",
    "## Prerequisites\n",
    "- An Azure account with access to Azure AI Foundry\n",
    "- A Bing connection configured in your Azure AI Foundry project\n",
    "- Appropriate environment variables in a `.env` file:\n",
    "  - `PROJECT_CONNECTION_STRING`: Connection string for your Azure AI Foundry project\n",
    "  - `BING_CONNECTION_NAME`: Name of your Bing connection\n",
    "  - `chatModel`: The model to use for the agent (e.g., GPT-4)\n",
    "\n",
    "## Workflow\n",
    "This notebook walks through the complete lifecycle of an AI agent with knowledge tools:\n",
    "1. Setting up the environment and client\n",
    "2. Creating a Bing knowledge tool\n",
    "3. Defining instructions for how the agent should use search capabilities\n",
    "4. Creating the agent with the knowledge tool\n",
    "5. Managing conversation threads and messages\n",
    "6. Running the agent to process queries\n",
    "7. Cleaning up resources when finished\n",
    "\n",
    "Follow along step by step to create your own knowledge-enhanced AI agent!"
   ]
  },
  {
   "cell_type": "markdown",
   "metadata": {},
   "source": [
    "**Imports**"
   ]
  },
  {
   "cell_type": "code",
   "execution_count": 14,
   "metadata": {},
   "outputs": [
    {
     "data": {
      "text/plain": [
       "True"
      ]
     },
     "execution_count": 14,
     "metadata": {},
     "output_type": "execute_result"
    }
   ],
   "source": [
    "import os\n",
    "import dotenv\n",
    "dotenv.load_dotenv(\".env\")"
   ]
  },
  {
   "cell_type": "markdown",
   "metadata": {},
   "source": [
    "**Create Client**"
   ]
  },
  {
   "cell_type": "code",
   "execution_count": 15,
   "metadata": {},
   "outputs": [],
   "source": [
    "from azure.ai.projects import AIProjectClient\n",
    "from azure.identity import DefaultAzureCredential\n",
    "\n",
    "# Create an Azure AI Client from a connection string, copied from your Azure AI Foundry project.\n",
    "# It should be in the format \"<HostName>;<AzureSubscriptionId>;<ResourceGroup>;<HubName>\"\n",
    "# Customers need to login to Azure subscription via Azure CLI and set the environment variables\n",
    "\n",
    "project_client = AIProjectClient.from_connection_string(\n",
    "    credential=DefaultAzureCredential(),\n",
    "    conn_str=os.environ[\"PROJECT_CONNECTION_STRING\"],\n",
    ")"
   ]
  },
  {
   "cell_type": "markdown",
   "metadata": {},
   "source": [
    "**Knowledge Tools**"
   ]
  },
  {
   "cell_type": "code",
   "execution_count": 16,
   "metadata": {},
   "outputs": [],
   "source": [
    "from azure.ai.projects.models import BingGroundingTool\n",
    "\n",
    "bing_connection = project_client.connections.get(\n",
    "    connection_name=os.environ[\"BING_CONNECTION_NAME\"]\n",
    ")\n",
    "conn_id = bing_connection.id\n",
    "\n",
    "# Initialize agent bing tool and add the connection id\n",
    "bing = BingGroundingTool(connection_id=conn_id)"
   ]
  },
  {
   "cell_type": "markdown",
   "metadata": {},
   "source": [
    "**Create Agent**"
   ]
  },
  {
   "cell_type": "code",
   "execution_count": 17,
   "metadata": {},
   "outputs": [],
   "source": [
    "system_message=(\n",
    "    \"You are a knowledgeable assistant with access to Bing search capabilities.\"\n",
    "    \"\\n When answering questions:\"\n",
    "    \"\\n     1. For factual queries, use the Bing tool to search for up-to-date information.\"\n",
    "    \"\\n     2. Always cite your sources when providing information from Bing.\"\n",
    "    \"\\n     3. If the search results are insufficient, acknowledge limitations and offer what you know.\"\n",
    "    \"\\n     4. Summarize complex information in a clear, concise manner.\"\n",
    "    \"\\n     5. When appropriate, organize information with bullet points or numbered lists.\"\n",
    "    \"\\n     6. Avoid making claims that aren't supported by your search results.\"\n",
    "    \"\\n     7. For time-sensitive information, note when the data was retrieved.\"\n",
    "    \"\\n     8. If a query is ambiguous, ask clarifying questions before searching.\"\n",
    "    \"\\n     9. If the user asks for a specific format (e.g., table), provide it if possible.\"\n",
    "    \"\\n     10. For citations, please use the IEEE (Institute of Electrical and Electronics Engineers) format.\"\n",
    "    \"\\n           - How you should apply it:\"\n",
    "    \"\\n                 a. For in-text citations, use numbered citations in brackets [1].\"\n",
    "    \"\\n                 b. At the end of the report, you should provide a list of citations in the format \"\n",
    "    \"(the list should ONLY contain the sources used in the free text of the research report. \"\n",
    "    \"Do NOT list sources which are not cited in the free text of the research report.):\"\n",
    "    \"\\n                     [1] Title of the source, URL.\"\n",
    "    \"\\n                 c. The list should be numbered in the order they appear in the text.\"\n",
    "    \"\\n                 d. If the same source/url is cited multiple times, it should be listed only once in the citation list.\"\n",
    "    \"\\n                 e. Pay extra attention in the end so that you do not create multiple citations lists.\"\n",
    "    \"\\n\\nYour goal is to provide accurate, helpful responses while clearly distinguishing between search results and your own knowledge.\"\n",
    ")\n",
    "\n",
    "# print(system_message)"
   ]
  },
  {
   "cell_type": "code",
   "execution_count": 18,
   "metadata": {},
   "outputs": [
    {
     "name": "stdout",
     "output_type": "stream",
     "text": [
      "Created agent, ID: asst_1LT0foxE0bJMj37hFxVt2lR1\n",
      "\n"
     ]
    }
   ],
   "source": [
    "from azure.ai.projects.models import FunctionTool\n",
    "\n",
    "agent = project_client.agents.create_agent(\n",
    "    name=\"my-knowledge-tool-agent\",\n",
    "    model=os.getenv(\"chatModel\"),\n",
    "    instructions=system_message,\n",
    "    tools=bing.definitions\n",
    ")\n",
    "\n",
    "print(f\"Created agent, ID: {agent.id}\")"
   ]
  },
  {
   "cell_type": "markdown",
   "metadata": {},
   "source": [
    "**Create Thread**"
   ]
  },
  {
   "cell_type": "code",
   "execution_count": 19,
   "metadata": {},
   "outputs": [],
   "source": [
    "thread = project_client.agents.create_thread()\n",
    "agent = project_client.agents.get_agent(agent_id=agent.id)"
   ]
  },
  {
   "cell_type": "markdown",
   "metadata": {},
   "source": [
    "**Adding first message**"
   ]
  },
  {
   "cell_type": "code",
   "execution_count": 20,
   "metadata": {},
   "outputs": [
    {
     "name": "stdout",
     "output_type": "stream",
     "text": [
      "Created message, ID: msg_oxm8cvwuj6qhRO2y9NRG5Ayz\n",
      "\n"
     ]
    }
   ],
   "source": [
    "from azure.ai.projects.models import MessageRole\n",
    "\n",
    "message = project_client.agents.create_message(\n",
    "    thread_id=thread.id,\n",
    "    role=\"user\",\n",
    "    content=\"What is the latest news in AI when it comes to OpenAI?\",\n",
    ")\n",
    "print(f\"Created message, ID: {message.id}\")"
   ]
  },
  {
   "cell_type": "markdown",
   "metadata": {},
   "source": [
    "**Running Agent with Thread**"
   ]
  },
  {
   "cell_type": "code",
   "execution_count": 21,
   "metadata": {},
   "outputs": [
    {
     "name": "stdout",
     "output_type": "stream",
     "text": [
      "Run finished with status: completed\n",
      "\n"
     ]
    }
   ],
   "source": [
    "# Create and process agent run in thread with tools\n",
    "run = project_client.agents.create_and_process_run(thread_id=thread.id, agent_id=agent.id)\n",
    "print(f\"Run finished with status: {run.status}\")\n",
    "\n",
    "if run.status == \"failed\":\n",
    "    print(f\"Run failed: {run.last_error}\")"
   ]
  },
  {
   "cell_type": "code",
   "execution_count": 22,
   "metadata": {},
   "outputs": [
    {
     "name": "stdout",
     "output_type": "stream",
     "text": [
      "\n",
      "👤 USER\n",
      "------------------------------------------------------------\n"
     ]
    },
    {
     "data": {
      "text/html": [
       "<pre style=\"white-space:pre;overflow-x:auto;line-height:normal;font-family:Menlo,'DejaVu Sans Mono',consolas,'Courier New',monospace\">What is the latest news in AI when it comes to OpenAI?                                                             \n",
       "</pre>\n"
      ],
      "text/plain": [
       "What is the latest news in AI when it comes to OpenAI?                                                             \n"
      ]
     },
     "metadata": {},
     "output_type": "display_data"
    },
    {
     "name": "stdout",
     "output_type": "stream",
     "text": [
      "\n",
      "🤖 ASSISTANT\n",
      "------------------------------------------------------------\n"
     ]
    },
    {
     "data": {
      "text/html": [
       "<pre style=\"white-space:pre;overflow-x:auto;line-height:normal;font-family:Menlo,'DejaVu Sans Mono',consolas,'Courier New',monospace\">OpenAI has made several important announcements recently:                                                          \n",
       "\n",
       "<span style=\"color: #808000; text-decoration-color: #808000; font-weight: bold\"> 1 </span><span style=\"font-weight: bold\">Fundraising Efforts</span>: OpenAI is set to raise up to $40 billion in a new funding round led by SoftBank Group, with\n",
       "<span style=\"color: #808000; text-decoration-color: #808000; font-weight: bold\">   </span>a valuation of $300 billion. This funding is aimed at advancing AI research, expanding computational            \n",
       "<span style=\"color: #808000; text-decoration-color: #808000; font-weight: bold\">   </span>infrastructure, and enhancing its tools[4][3].                                                                  \n",
       "<span style=\"color: #808000; text-decoration-color: #808000; font-weight: bold\"> 2 </span><span style=\"font-weight: bold\">Launch of Open-Weight Model</span>: OpenAI plans to launch its first open-weight language model since GPT-2, aiming to \n",
       "<span style=\"color: #808000; text-decoration-color: #808000; font-weight: bold\">   </span>provide more accessibility to its AI models[2].                                                                 \n",
       "<span style=\"color: #808000; text-decoration-color: #808000; font-weight: bold\"> 3 </span><span style=\"font-weight: bold\">Image Generation Tool</span>: The latest image generation tool by ChatGPT has seen significant engagement, with users  \n",
       "<span style=\"color: #808000; text-decoration-color: #808000; font-weight: bold\">   </span>generating 700 million images in a few days. This new tool also sparked a trend of AI-generated images in the   \n",
       "<span style=\"color: #808000; text-decoration-color: #808000; font-weight: bold\">   </span>style of Studio Ghibli[1].                                                                                      \n",
       "\n",
       "For more details, you can visit the cited sources.                                                                 \n",
       "</pre>\n"
      ],
      "text/plain": [
       "OpenAI has made several important announcements recently:                                                          \n",
       "\n",
       "\u001b[1;33m 1 \u001b[0m\u001b[1mFundraising Efforts\u001b[0m: OpenAI is set to raise up to $40 billion in a new funding round led by SoftBank Group, with\n",
       "\u001b[1;33m   \u001b[0ma valuation of $300 billion. This funding is aimed at advancing AI research, expanding computational            \n",
       "\u001b[1;33m   \u001b[0minfrastructure, and enhancing its tools[4][3].                                                                  \n",
       "\u001b[1;33m 2 \u001b[0m\u001b[1mLaunch of Open-Weight Model\u001b[0m: OpenAI plans to launch its first open-weight language model since GPT-2, aiming to \n",
       "\u001b[1;33m   \u001b[0mprovide more accessibility to its AI models[2].                                                                 \n",
       "\u001b[1;33m 3 \u001b[0m\u001b[1mImage Generation Tool\u001b[0m: The latest image generation tool by ChatGPT has seen significant engagement, with users  \n",
       "\u001b[1;33m   \u001b[0mgenerating 700 million images in a few days. This new tool also sparked a trend of AI-generated images in the   \n",
       "\u001b[1;33m   \u001b[0mstyle of Studio Ghibli[1].                                                                                      \n",
       "\n",
       "For more details, you can visit the cited sources.                                                                 \n"
      ]
     },
     "metadata": {},
     "output_type": "display_data"
    },
    {
     "name": "stdout",
     "output_type": "stream",
     "text": [
      "\n",
      "Citations:\n",
      "1. ChatGPT’s image surge: 700 million generated in days as India leads AI boom: https://www.fortuneindia.com/technology/chatgpts-image-surge-700-million-generated-in-days-as-india-leads-ai-boom/121603\n",
      "2. OpenAI is planning on launching its first open-weight model in years: https://www.msn.com/en-us/news/technology/openai-is-planning-on-launching-its-first-open-weight-model-in-years/ar-AA1C4Hrg\n",
      "3. OpenAI plans to raise $40 billion to boost its AI efforts: https://edition.cnn.com/2025/04/01/business/openai-funding-round/index.html\n",
      "4. OpenAI to raise $40 billion in SoftBank-led round to boost AI efforts: https://www.msn.com/en-us/technology/artificial-intelligence/openai-to-raise-40-billion-in-softbank-led-round-to-boost-ai-efforts/ar-AA1C576K\n"
     ]
    }
   ],
   "source": [
    "from utils.helper import pretty_print_thread_messages\n",
    "\n",
    "messages = project_client.agents.list_messages(thread_id=thread.id)\n",
    "pretty_print_thread_messages(messages)"
   ]
  },
  {
   "cell_type": "markdown",
   "metadata": {},
   "source": [
    "**Adding second message to thread**"
   ]
  },
  {
   "cell_type": "code",
   "execution_count": 23,
   "metadata": {},
   "outputs": [],
   "source": [
    "from azure.ai.projects.models import MessageRole\n",
    "\n",
    "message = project_client.agents.create_message(\n",
    "    thread_id=thread.id,\n",
    "    role=\"user\",\n",
    "    content=\"Which industries are most affected?\",\n",
    ")"
   ]
  },
  {
   "cell_type": "markdown",
   "metadata": {},
   "source": [
    "**Running Agent with Thread**"
   ]
  },
  {
   "cell_type": "code",
   "execution_count": 24,
   "metadata": {},
   "outputs": [
    {
     "name": "stdout",
     "output_type": "stream",
     "text": [
      "Run finished with status: completed\n",
      "\n"
     ]
    }
   ],
   "source": [
    "# Create and process agent run in thread with tools\n",
    "run = project_client.agents.create_and_process_run(thread_id=thread.id, agent_id=agent.id)\n",
    "print(f\"Run finished with status: {run.status}\")\n",
    "\n",
    "if run.status == \"failed\":\n",
    "    print(f\"Run failed: {run.last_error}\")"
   ]
  },
  {
   "cell_type": "code",
   "execution_count": 25,
   "metadata": {},
   "outputs": [
    {
     "name": "stdout",
     "output_type": "stream",
     "text": [
      "\n",
      "👤 USER\n",
      "------------------------------------------------------------\n"
     ]
    },
    {
     "data": {
      "text/html": [
       "<pre style=\"white-space:pre;overflow-x:auto;line-height:normal;font-family:Menlo,'DejaVu Sans Mono',consolas,'Courier New',monospace\">What is the latest news in AI when it comes to OpenAI?                                                             \n",
       "</pre>\n"
      ],
      "text/plain": [
       "What is the latest news in AI when it comes to OpenAI?                                                             \n"
      ]
     },
     "metadata": {},
     "output_type": "display_data"
    },
    {
     "name": "stdout",
     "output_type": "stream",
     "text": [
      "\n",
      "🤖 ASSISTANT\n",
      "------------------------------------------------------------\n"
     ]
    },
    {
     "data": {
      "text/html": [
       "<pre style=\"white-space:pre;overflow-x:auto;line-height:normal;font-family:Menlo,'DejaVu Sans Mono',consolas,'Courier New',monospace\">OpenAI has made several important announcements recently:                                                          \n",
       "\n",
       "<span style=\"color: #808000; text-decoration-color: #808000; font-weight: bold\"> 1 </span><span style=\"font-weight: bold\">Fundraising Efforts</span>: OpenAI is set to raise up to $40 billion in a new funding round led by SoftBank Group, with\n",
       "<span style=\"color: #808000; text-decoration-color: #808000; font-weight: bold\">   </span>a valuation of $300 billion. This funding is aimed at advancing AI research, expanding computational            \n",
       "<span style=\"color: #808000; text-decoration-color: #808000; font-weight: bold\">   </span>infrastructure, and enhancing its tools[4][3].                                                                  \n",
       "<span style=\"color: #808000; text-decoration-color: #808000; font-weight: bold\"> 2 </span><span style=\"font-weight: bold\">Launch of Open-Weight Model</span>: OpenAI plans to launch its first open-weight language model since GPT-2, aiming to \n",
       "<span style=\"color: #808000; text-decoration-color: #808000; font-weight: bold\">   </span>provide more accessibility to its AI models[2].                                                                 \n",
       "<span style=\"color: #808000; text-decoration-color: #808000; font-weight: bold\"> 3 </span><span style=\"font-weight: bold\">Image Generation Tool</span>: The latest image generation tool by ChatGPT has seen significant engagement, with users  \n",
       "<span style=\"color: #808000; text-decoration-color: #808000; font-weight: bold\">   </span>generating 700 million images in a few days. This new tool also sparked a trend of AI-generated images in the   \n",
       "<span style=\"color: #808000; text-decoration-color: #808000; font-weight: bold\">   </span>style of Studio Ghibli[1].                                                                                      \n",
       "\n",
       "For more details, you can visit the cited sources.                                                                 \n",
       "</pre>\n"
      ],
      "text/plain": [
       "OpenAI has made several important announcements recently:                                                          \n",
       "\n",
       "\u001b[1;33m 1 \u001b[0m\u001b[1mFundraising Efforts\u001b[0m: OpenAI is set to raise up to $40 billion in a new funding round led by SoftBank Group, with\n",
       "\u001b[1;33m   \u001b[0ma valuation of $300 billion. This funding is aimed at advancing AI research, expanding computational            \n",
       "\u001b[1;33m   \u001b[0minfrastructure, and enhancing its tools[4][3].                                                                  \n",
       "\u001b[1;33m 2 \u001b[0m\u001b[1mLaunch of Open-Weight Model\u001b[0m: OpenAI plans to launch its first open-weight language model since GPT-2, aiming to \n",
       "\u001b[1;33m   \u001b[0mprovide more accessibility to its AI models[2].                                                                 \n",
       "\u001b[1;33m 3 \u001b[0m\u001b[1mImage Generation Tool\u001b[0m: The latest image generation tool by ChatGPT has seen significant engagement, with users  \n",
       "\u001b[1;33m   \u001b[0mgenerating 700 million images in a few days. This new tool also sparked a trend of AI-generated images in the   \n",
       "\u001b[1;33m   \u001b[0mstyle of Studio Ghibli[1].                                                                                      \n",
       "\n",
       "For more details, you can visit the cited sources.                                                                 \n"
      ]
     },
     "metadata": {},
     "output_type": "display_data"
    },
    {
     "name": "stdout",
     "output_type": "stream",
     "text": [
      "\n",
      "Citations:\n",
      "1. ChatGPT’s image surge: 700 million generated in days as India leads AI boom: https://www.fortuneindia.com/technology/chatgpts-image-surge-700-million-generated-in-days-as-india-leads-ai-boom/121603\n",
      "2. OpenAI is planning on launching its first open-weight model in years: https://www.msn.com/en-us/news/technology/openai-is-planning-on-launching-its-first-open-weight-model-in-years/ar-AA1C4Hrg\n",
      "3. OpenAI plans to raise $40 billion to boost its AI efforts: https://edition.cnn.com/2025/04/01/business/openai-funding-round/index.html\n",
      "4. OpenAI to raise $40 billion in SoftBank-led round to boost AI efforts: https://www.msn.com/en-us/technology/artificial-intelligence/openai-to-raise-40-billion-in-softbank-led-round-to-boost-ai-efforts/ar-AA1C576K\n",
      "\n",
      "👤 USER\n",
      "------------------------------------------------------------\n"
     ]
    },
    {
     "data": {
      "text/html": [
       "<pre style=\"white-space:pre;overflow-x:auto;line-height:normal;font-family:Menlo,'DejaVu Sans Mono',consolas,'Courier New',monospace\">Which industries are most affected?                                                                                \n",
       "</pre>\n"
      ],
      "text/plain": [
       "Which industries are most affected?                                                                                \n"
      ]
     },
     "metadata": {},
     "output_type": "display_data"
    },
    {
     "name": "stdout",
     "output_type": "stream",
     "text": [
      "\n",
      "🤖 ASSISTANT\n",
      "------------------------------------------------------------\n"
     ]
    },
    {
     "data": {
      "text/html": [
       "<pre style=\"white-space:pre;overflow-x:auto;line-height:normal;font-family:Menlo,'DejaVu Sans Mono',consolas,'Courier New',monospace\">OpenAI’s recent developments are affecting several key industries:                                                 \n",
       "\n",
       "<span style=\"color: #808000; text-decoration-color: #808000; font-weight: bold\"> 1 </span><span style=\"font-weight: bold\">Finance</span>: The integration of AI with blockchain technologies is transforming financial services, including       \n",
       "<span style=\"color: #808000; text-decoration-color: #808000; font-weight: bold\">   </span>decentralized finance (DeFi) systems and predictive market analytics. This fosters innovations such as          \n",
       "<span style=\"color: #808000; text-decoration-color: #808000; font-weight: bold\">   </span>intelligent digital identities, AI-driven compliance systems, and secure financial transactions[4].             \n",
       "<span style=\"color: #808000; text-decoration-color: #808000; font-weight: bold\"> 2 </span><span style=\"font-weight: bold\">Healthcare</span>: AI applications in healthcare are leveraging blockchain-secured patient data for personalized       \n",
       "<span style=\"color: #808000; text-decoration-color: #808000; font-weight: bold\">   </span>medical treatments. This enhances the ability to analyze vast amounts of data for more accurate diagnostics and \n",
       "<span style=\"color: #808000; text-decoration-color: #808000; font-weight: bold\">   </span>treatments[3].                                                                                                  \n",
       "<span style=\"color: #808000; text-decoration-color: #808000; font-weight: bold\"> 3 </span><span style=\"font-weight: bold\">Logistics and Supply Chain</span>: AI and blockchain together are improving transparency, efficiency, and security in  \n",
       "<span style=\"color: #808000; text-decoration-color: #808000; font-weight: bold\">   </span>logistics and supply chain management. This integration allows better tracking, inventory management, and       \n",
       "<span style=\"color: #808000; text-decoration-color: #808000; font-weight: bold\">   </span>automated compliance processes[2].                                                                              \n",
       "<span style=\"color: #808000; text-decoration-color: #808000; font-weight: bold\"> 4 </span><span style=\"font-weight: bold\">Government and Regulatory Compliance</span>: AI technology is being used to ensure regulatory compliance, reduce fraud,\n",
       "<span style=\"color: #808000; text-decoration-color: #808000; font-weight: bold\">   </span>and handle complex transactions in government and public sector operations, promoting more efficient and        \n",
       "<span style=\"color: #808000; text-decoration-color: #808000; font-weight: bold\">   </span>transparent systems[1].                                                                                         \n",
       "\n",
       "These advancements by OpenAI are driving significant changes across various sectors, showcasing the growing        \n",
       "importance of AI in modern industry solutions.                                                                     \n",
       "</pre>\n"
      ],
      "text/plain": [
       "OpenAI’s recent developments are affecting several key industries:                                                 \n",
       "\n",
       "\u001b[1;33m 1 \u001b[0m\u001b[1mFinance\u001b[0m: The integration of AI with blockchain technologies is transforming financial services, including       \n",
       "\u001b[1;33m   \u001b[0mdecentralized finance (DeFi) systems and predictive market analytics. This fosters innovations such as          \n",
       "\u001b[1;33m   \u001b[0mintelligent digital identities, AI-driven compliance systems, and secure financial transactions[4].             \n",
       "\u001b[1;33m 2 \u001b[0m\u001b[1mHealthcare\u001b[0m: AI applications in healthcare are leveraging blockchain-secured patient data for personalized       \n",
       "\u001b[1;33m   \u001b[0mmedical treatments. This enhances the ability to analyze vast amounts of data for more accurate diagnostics and \n",
       "\u001b[1;33m   \u001b[0mtreatments[3].                                                                                                  \n",
       "\u001b[1;33m 3 \u001b[0m\u001b[1mLogistics and Supply Chain\u001b[0m: AI and blockchain together are improving transparency, efficiency, and security in  \n",
       "\u001b[1;33m   \u001b[0mlogistics and supply chain management. This integration allows better tracking, inventory management, and       \n",
       "\u001b[1;33m   \u001b[0mautomated compliance processes[2].                                                                              \n",
       "\u001b[1;33m 4 \u001b[0m\u001b[1mGovernment and Regulatory Compliance\u001b[0m: AI technology is being used to ensure regulatory compliance, reduce fraud,\n",
       "\u001b[1;33m   \u001b[0mand handle complex transactions in government and public sector operations, promoting more efficient and        \n",
       "\u001b[1;33m   \u001b[0mtransparent systems[1].                                                                                         \n",
       "\n",
       "These advancements by OpenAI are driving significant changes across various sectors, showcasing the growing        \n",
       "importance of AI in modern industry solutions.                                                                     \n"
      ]
     },
     "metadata": {},
     "output_type": "display_data"
    },
    {
     "name": "stdout",
     "output_type": "stream",
     "text": [
      "\n",
      "Citations:\n",
      "1. OpenAI’s $40 Billion And Circle IPO: AI And Blockchain’s ... - Forbes: https://www.forbes.com/sites/digital-assets/2025/04/03/openais-40b-and-circle-ipo-ai-and-blockchains-economic-revolution/\n",
      "2. OpenAI’s $40 Billion And Circle IPO: AI And Blockchain’s ... - Forbes: https://www.forbes.com/sites/digital-assets/2025/04/03/openais-40b-and-circle-ipo-ai-and-blockchains-economic-revolution/Citations:\n",
      "1. OpenAI’s $40 Billion And Circle IPO: AI And Blockchain’s ... - Forbes: https://www.forbes.com/sites/digital-assets/2025/04/03/openais-40b-and-circle-ipo-ai-and-blockchains-economic-revolution/\n",
      "2. OpenAI’s $40 Billion And Circle IPO: AI And Blockchain’s ... - Forbes: https://www.forbes.com/sites/digital-assets/2025/04/03/openais-40b-and-circle-ipo-ai-and-blockchains-economic-revolution/\n",
      "3. OpenAI’s $40 Billion And Circle IPO: AI And Blockchain’s ... - Forbes: https://www.forbes.com/sites/digital-assets/2025/04/03/openais-40b-and-circle-ipo-ai-and-blockchains-economic-revolution/\n",
      "4. OpenAI’s $40 Billion And Circle IPO: AI And Blockchain’s ... - Forbes: https://www.forbes.com/sites/digital-assets/2025/04/03/openais-40b-and-circle-ipo-ai-and-blockchains-economic-revolution/\n"
     ]
    }
   ],
   "source": [
    "from utils.helper import pretty_print_thread_messages\n",
    "\n",
    "messages = project_client.agents.list_messages(thread_id=thread.id)\n",
    "pretty_print_thread_messages(messages)"
   ]
  },
  {
   "cell_type": "markdown",
   "metadata": {},
   "source": [
    "**Delete Agent & Thread**"
   ]
  },
  {
   "cell_type": "code",
   "execution_count": 26,
   "metadata": {},
   "outputs": [
    {
     "name": "stdout",
     "output_type": "stream",
     "text": [
      "Deleted agent\n",
      "\n",
      "thread: thread_bRQzMuCPMkrZJyJvso2jA9wV deleted\n"
     ]
    }
   ],
   "source": [
    "# Delete the agent when done\n",
    "project_client.agents.delete_agent(agent.id)\n",
    "print(\"Deleted agent\")\n",
    "\n",
    "# Delete Thread when done\n",
    "project_client.agents.delete_thread(thread_id=thread.id)\n",
    "print(f\"thread: {thread.id} deleted\")"
   ]
  },
  {
   "cell_type": "code",
   "execution_count": null,
   "metadata": {},
   "outputs": [],
   "source": []
  },
  {
   "cell_type": "code",
   "execution_count": null,
   "metadata": {},
   "outputs": [],
   "source": []
  },
  {
   "cell_type": "code",
   "execution_count": null,
   "metadata": {},
   "outputs": [],
   "source": []
  },
  {
   "cell_type": "code",
   "execution_count": null,
   "metadata": {},
   "outputs": [],
   "source": []
  }
 ],
 "metadata": {
  "kernelspec": {
   "display_name": "ericsson-demo",
   "language": "python",
   "name": "python3"
  },
  "language_info": {
   "codemirror_mode": {
    "name": "ipython",
    "version": 3
   },
   "file_extension": ".py",
   "mimetype": "text/x-python",
   "name": "python",
   "nbconvert_exporter": "python",
   "pygments_lexer": "ipython3",
   "version": "3.10.0"
  }
 },
 "nbformat": 4,
 "nbformat_minor": 2
}
