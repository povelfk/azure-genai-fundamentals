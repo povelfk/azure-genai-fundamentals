{
 "cells": [
  {
   "cell_type": "markdown",
   "metadata": {},
   "source": [
    "# **Azure AI Agents with Knowledge Tools (Bing Search)**\n",
    "\n",
    "## Overview\n",
    "This notebook demonstrates how to create and use AI agents with knowledge tools in Azure AI Foundry. You'll learn how to enhance an AI agent's capabilities by integrating external knowledge sources like Bing search, allowing it to provide up-to-date information in response to user queries."
   ]
  },
  {
   "cell_type": "markdown",
   "metadata": {},
   "source": [
    "## Understanding Stateless vs. Stateful APIs\n",
    "\n",
    "### **Completions API (Stateless)**\n",
    "In the previous notebooks, we used the OpenAI Completions API, which is **stateless**:\n",
    "- Each request is independent and does not retain memory of previous interactions.\n",
    "- Conversation history must be manually included in every request.\n",
    "- Simple request-response pattern with no built-in conversation management.\n",
    "\n",
    "```python\n",
    "# Stateless Completions API example\n",
    "response = client.chat.completions.create(\n",
    "    model=\"gpt-4o\",\n",
    "    messages=[\n",
    "        {\"role\": \"system\", \"content\": \"You are a helpful assistant.\"},\n",
    "        {\"role\": \"user\", \"content\": \"Tell me about Mars.\"}\n",
    "    ]\n",
    ")\n",
    "```\n",
    "\n",
    "#### **Agent API (Stateful) workflow**\n",
    "- Maintains conversation context through threads and runs.\n",
    "- Automatically manages conversation history and state.\n",
    "- Enables persistence of interactions for multi-turn conversations.\n",
    "\n",
    "**1. Create a thread (conversation container)**\n",
    "```python\n",
    "thread = project_client.agents.create_thread()\n",
    "```\n",
    "\n",
    "**2. Add messages to the thread**\n",
    "```python\n",
    "message = project_client.agents.create_message(\n",
    "    thread_id=thread.id,\n",
    "    role=\"user\",\n",
    "    content=\"Tell me about Mars.\"\n",
    ")\n",
    "```\n",
    "\n",
    "**3. Run the agent on the thread**\n",
    "```python\n",
    "run = project_client.agents.create_and_process_run(\n",
    "    thread_id=thread.id, \n",
    "    agent_id=agent.id\n",
    ")"
   ]
  },
  {
   "cell_type": "markdown",
   "metadata": {},
   "source": [
    "## 1. Setting Up the Environment\n",
    "\n",
    "First, we'll import the necessary libraries and load environment variables from a `.env` file.\n",
    "This provides access to connection strings, model names, and other configuration details."
   ]
  },
  {
   "cell_type": "code",
   "execution_count": 1,
   "metadata": {},
   "outputs": [
    {
     "data": {
      "text/plain": [
       "True"
      ]
     },
     "execution_count": 1,
     "metadata": {},
     "output_type": "execute_result"
    }
   ],
   "source": [
    "import os\n",
    "import dotenv\n",
    "dotenv.load_dotenv(\".env\")"
   ]
  },
  {
   "cell_type": "markdown",
   "metadata": {},
   "source": [
    "### Creating the Azure AI Project Client\n",
    "\n",
    "Now we'll establish a connection to our Azure AI Foundry project using the connection string from our environment variables. This client will be used to manage agents, threads, and knowledge tools."
   ]
  },
  {
   "cell_type": "code",
   "execution_count": 2,
   "metadata": {},
   "outputs": [],
   "source": [
    "from azure.ai.projects import AIProjectClient\n",
    "from azure.identity import DefaultAzureCredential\n",
    "\n",
    "# Create an Azure AI Client from a connection string, copied from your Azure AI Foundry project.\n",
    "# It should be in the format \"<HostName>;<AzureSubscriptionId>;<ResourceGroup>;<HubName>\"\n",
    "# Customers need to login to Azure subscription via Azure CLI and set the environment variables\n",
    "\n",
    "project_client = AIProjectClient.from_connection_string(\n",
    "    credential=DefaultAzureCredential(),\n",
    "    conn_str=os.environ[\"PROJECT_CONNECTION_STRING\"],\n",
    ")"
   ]
  },
  {
   "cell_type": "markdown",
   "metadata": {},
   "source": [
    "## 2. Setting Up Knowledge Tools\n",
    "\n",
    "Knowledge tools extend an agent's capabilities by providing access to external information sources. Here, we'll create a Bing search tool that allows our agent to search the web for current information.\n",
    "\n",
    "The `BingGroundingTool` integrates with Bing Search to enable:\n",
    "- Real-time information retrieval\n",
    "- Access to current events and news\n",
    "- Factual grounding for agent responses"
   ]
  },
  {
   "cell_type": "code",
   "execution_count": 3,
   "metadata": {},
   "outputs": [],
   "source": [
    "from azure.ai.projects.models import BingGroundingTool\n",
    "\n",
    "bing_connection = project_client.connections.get(\n",
    "    connection_name=os.environ[\"BING_CONNECTION_NAME\"]\n",
    ")\n",
    "conn_id = bing_connection.id\n",
    "\n",
    "# Initialize agent bing tool and add the connection id\n",
    "bing = BingGroundingTool(connection_id=conn_id)"
   ]
  },
  {
   "cell_type": "markdown",
   "metadata": {},
   "source": [
    "## 3. Defining Agent Instructions\n",
    "\n",
    "System instructions guide how the agent behaves and uses its tools. Here we create detailed instructions that specify:\n",
    "- When and how to use Bing search\n",
    "- How to cite information sources properly using IEEE format\n",
    "- Guidelines for summarizing and presenting information\n",
    "- How to handle limitations in search results\n",
    "\n",
    "These instructions serve as the agent's \"operating manual\" for processing queries."
   ]
  },
  {
   "cell_type": "code",
   "execution_count": 4,
   "metadata": {},
   "outputs": [],
   "source": [
    "system_message=(\n",
    "    \"You are a knowledgeable assistant with access to Bing search capabilities.\"\n",
    "    \"\\n When answering questions:\"\n",
    "    \"\\n     1. For factual queries, use the Bing tool to search for up-to-date information.\"\n",
    "    \"\\n     2. Always cite your sources when providing information from Bing.\"\n",
    "    \"\\n     3. If the search results are insufficient, acknowledge limitations and offer what you know.\"\n",
    "    \"\\n     4. Summarize complex information in a clear, concise manner.\"\n",
    "    \"\\n     5. When appropriate, organize information with bullet points or numbered lists.\"\n",
    "    \"\\n     6. Avoid making claims that aren't supported by your search results.\"\n",
    "    \"\\n     7. For time-sensitive information, note when the data was retrieved.\"\n",
    "    \"\\n     8. If a query is ambiguous, ask clarifying questions before searching.\"\n",
    "    \"\\n     9. If the user asks for a specific format (e.g., table), provide it if possible.\"\n",
    "    \"\\n     10. For citations, please use the IEEE (Institute of Electrical and Electronics Engineers) format.\"\n",
    "    \"\\n           - How you should apply it:\"\n",
    "    \"\\n                 a. For in-text citations, use numbered citations in brackets [1].\"\n",
    "    \"\\n                 b. At the end of the report, you should provide a list of citations in the format \"\n",
    "    \"(the list should ONLY contain the sources used in the free text of the research report. \"\n",
    "    \"Do NOT list sources which are not cited in the free text of the research report.):\"\n",
    "    \"\\n                     [1] Title of the source, URL.\"\n",
    "    \"\\n                 c. The list should be numbered in the order they appear in the text.\"\n",
    "    \"\\n                 d. If the same source/url is cited multiple times, it should be listed only once in the citation list.\"\n",
    "    \"\\n                 e. Pay extra attention in the end so that you do not create multiple citations lists.\"\n",
    "    \"\\n\\nYour goal is to provide accurate, helpful responses while clearly distinguishing between search results and your own knowledge.\"\n",
    ")\n",
    "\n",
    "# print(system_message)"
   ]
  },
  {
   "cell_type": "markdown",
   "metadata": {},
   "source": [
    "## 4. Creating the Agent\n",
    "\n",
    "Now we'll create the actual agent with our system instructions and Bing tool. The agent combines:\n",
    "- A language model (specified in our environment variables)\n",
    "- Our detailed system instructions\n",
    "- Access to the Bing search tool\n",
    "\n",
    "This creates a capable assistant that can search the web for information when responding to queries."
   ]
  },
  {
   "cell_type": "code",
   "execution_count": 5,
   "metadata": {},
   "outputs": [
    {
     "name": "stdout",
     "output_type": "stream",
     "text": [
      "Created agent, ID: asst_tEXMIS5k4qByweU3u03KWDE7\n"
     ]
    }
   ],
   "source": [
    "from azure.ai.projects.models import FunctionTool\n",
    "\n",
    "agent = project_client.agents.create_agent(\n",
    "    name=\"my-knowledge-tool-agent\",\n",
    "    model=os.getenv(\"chatModel\"),\n",
    "    instructions=system_message,\n",
    "    tools=bing.definitions\n",
    ")\n",
    "\n",
    "print(f\"Created agent, ID: {agent.id}\")"
   ]
  },
  {
   "cell_type": "markdown",
   "metadata": {},
   "source": [
    "## 5. Creating a Thread\n",
    "\n",
    "Threads are conversation containers in the Agent API. Each thread:\n",
    "- Holds the history of messages between user and agent\n",
    "- Maintains conversation state and context\n",
    "- Enables multi-turn conversations\n",
    "\n",
    "Think of a thread as a dedicated, persistent chat session for a specific conversation."
   ]
  },
  {
   "cell_type": "code",
   "execution_count": null,
   "metadata": {},
   "outputs": [],
   "source": [
    "thread = project_client.agents.create_thread()"
   ]
  },
  {
   "cell_type": "markdown",
   "metadata": {},
   "source": [
    "## 6. Adding a Message to the Thread\n",
    "\n",
    "Now we'll add our first user message to the thread. This message will be processed by the agent when we run it.\n",
    "We're asking about the latest news related to OpenAI, which will require the agent to use its Bing search tool to find current information."
   ]
  },
  {
   "cell_type": "code",
   "execution_count": 7,
   "metadata": {},
   "outputs": [
    {
     "name": "stdout",
     "output_type": "stream",
     "text": [
      "Created message, ID: msg_LfhQEIVy8Kk8bf9Yg8OKxpzS\n"
     ]
    }
   ],
   "source": [
    "from azure.ai.projects.models import MessageRole\n",
    "\n",
    "message = project_client.agents.create_message(\n",
    "    thread_id=thread.id,\n",
    "    role=\"user\",\n",
    "    content=\"What is the latest news in AI when it comes to OpenAI?\",\n",
    ")\n",
    "print(f\"Created message, ID: {message.id}\")"
   ]
  },
  {
   "cell_type": "markdown",
   "metadata": {},
   "source": [
    "## 7. Running the Agent\n",
    "\n",
    "Now we'll run the agent on our thread. During this process, the agent will:\n",
    "1. Read the message asking about OpenAI news\n",
    "2. Determine that real-time information is needed\n",
    "3. Use the Bing search tool to find current news articles\n",
    "4. Synthesize the information into a comprehensive response\n",
    "5. Format the response with proper citations\n",
    "\n",
    "The `create_and_process_run` method handles all of these steps in a single call."
   ]
  },
  {
   "cell_type": "code",
   "execution_count": 8,
   "metadata": {},
   "outputs": [
    {
     "name": "stdout",
     "output_type": "stream",
     "text": [
      "Run finished with status: completed\n"
     ]
    }
   ],
   "source": [
    "# Create and process agent run in thread with tools\n",
    "run = project_client.agents.create_and_process_run(thread_id=thread.id, agent_id=agent.id)\n",
    "print(f\"Run finished with status: {run.status}\")\n",
    "\n",
    "if run.status == \"failed\":\n",
    "    print(f\"Run failed: {run.last_error}\")"
   ]
  },
  {
   "cell_type": "markdown",
   "metadata": {},
   "source": [
    "### Viewing Thread Messages\n",
    "\n",
    "Now let's examine the conversation thread to see the agent's response. The `pretty_print_thread_messages` helper function formats the conversation in a readable way, showing both user queries and agent responses."
   ]
  },
  {
   "cell_type": "code",
   "execution_count": 9,
   "metadata": {},
   "outputs": [
    {
     "name": "stdout",
     "output_type": "stream",
     "text": [
      "\n",
      "👤 USER\n",
      "------------------------------------------------------------\n"
     ]
    },
    {
     "data": {
      "text/html": [
       "<pre style=\"white-space:pre;overflow-x:auto;line-height:normal;font-family:Menlo,'DejaVu Sans Mono',consolas,'Courier New',monospace\">What is the latest news in AI when it comes to OpenAI?                                                             \n",
       "</pre>\n"
      ],
      "text/plain": [
       "What is the latest news in AI when it comes to OpenAI?                                                             \n"
      ]
     },
     "metadata": {},
     "output_type": "display_data"
    },
    {
     "name": "stdout",
     "output_type": "stream",
     "text": [
      "\n",
      "🤖 ASSISTANT\n",
      "------------------------------------------------------------\n"
     ]
    },
    {
     "data": {
      "text/html": [
       "<pre style=\"white-space:pre;overflow-x:auto;line-height:normal;font-family:Menlo,'DejaVu Sans Mono',consolas,'Courier New',monospace\">OpenAI recently paused free access to its GPT-4o image-generation feature after a viral trend where users created  \n",
       "Studio Ghibli-style images, raising legal and ethical concerns. While paid subscribers retain access, OpenAI is    \n",
       "reevaluating due to copyright implications and the overwhelming popularity of the feature[3][2][1].                \n",
       "</pre>\n"
      ],
      "text/plain": [
       "OpenAI recently paused free access to its GPT-4o image-generation feature after a viral trend where users created  \n",
       "Studio Ghibli-style images, raising legal and ethical concerns. While paid subscribers retain access, OpenAI is    \n",
       "reevaluating due to copyright implications and the overwhelming popularity of the feature[3][2][1].                \n"
      ]
     },
     "metadata": {},
     "output_type": "display_data"
    },
    {
     "name": "stdout",
     "output_type": "stream",
     "text": [
      "\n",
      "Citations:\n",
      "1. The OpenAI Studio Ghibli controversy could be a test for art copyright ...: https://tech.yahoo.com/articles/openai-studio-ghibli-controversy-could-060000378.html\n",
      "2. OpenAI's GPT-4o Generates Studio Ghibli-Style Images Amid Copyright ...: https://www.binance.com/en/square/post/03-28-2025-openai-s-gpt-4o-generates-studio-ghibli-style-images-amid-copyright-concerns-22134493396594\n",
      "3. OpenAI pauses free GPT-4o image generation after viral Studio Ghibli ...: https://www.techedt.com/openai-pauses-free-gpt-4o-image-generation-after-viral-studio-ghibli-trend\n"
     ]
    }
   ],
   "source": [
    "from utils.helper import pretty_print_thread_messages\n",
    "\n",
    "messages = project_client.agents.list_messages(thread_id=thread.id)\n",
    "pretty_print_thread_messages(messages)"
   ]
  },
  {
   "cell_type": "markdown",
   "metadata": {},
   "source": [
    "## 8. Continuing the Conversation\n",
    "\n",
    "One of the advantages of the Agent API is maintaining conversation context. Let's add a follow-up question that references our first query. The agent will understand that \"Which industries\" refers to industries affected by OpenAI's recent developments mentioned in the previous exchange."
   ]
  },
  {
   "cell_type": "code",
   "execution_count": 10,
   "metadata": {},
   "outputs": [],
   "source": [
    "from azure.ai.projects.models import MessageRole\n",
    "\n",
    "message = project_client.agents.create_message(\n",
    "    thread_id=thread.id,\n",
    "    role=\"user\",\n",
    "    content=\"Which industries are most affected?\",\n",
    ")"
   ]
  },
  {
   "cell_type": "markdown",
   "metadata": {},
   "source": [
    "### Processing the Follow-up Question\n",
    "\n",
    "Now we'll run the agent again to process our follow-up question. The agent will:\n",
    "1. Understand the context from the previous exchange\n",
    "2. Use Bing search to find information about industries affected by OpenAI's developments\n",
    "3. Generate a contextually relevant response that builds on the previous information"
   ]
  },
  {
   "cell_type": "code",
   "execution_count": 11,
   "metadata": {},
   "outputs": [
    {
     "name": "stdout",
     "output_type": "stream",
     "text": [
      "Run finished with status: completed\n"
     ]
    }
   ],
   "source": [
    "# Create and process agent run in thread with tools\n",
    "run = project_client.agents.create_and_process_run(thread_id=thread.id, agent_id=agent.id)\n",
    "print(f\"Run finished with status: {run.status}\")\n",
    "\n",
    "if run.status == \"failed\":\n",
    "    print(f\"Run failed: {run.last_error}\")"
   ]
  },
  {
   "cell_type": "markdown",
   "metadata": {},
   "source": [
    "### Viewing the Complete Conversation\n",
    "\n",
    "Let's see the full conversation thread, which now includes our follow-up question and the agent's response. This demonstrates how the agent maintains context across multiple turns of a conversation."
   ]
  },
  {
   "cell_type": "code",
   "execution_count": 12,
   "metadata": {},
   "outputs": [
    {
     "name": "stdout",
     "output_type": "stream",
     "text": [
      "\n",
      "👤 USER\n",
      "------------------------------------------------------------\n"
     ]
    },
    {
     "data": {
      "text/html": [
       "<pre style=\"white-space:pre;overflow-x:auto;line-height:normal;font-family:Menlo,'DejaVu Sans Mono',consolas,'Courier New',monospace\">What is the latest news in AI when it comes to OpenAI?                                                             \n",
       "</pre>\n"
      ],
      "text/plain": [
       "What is the latest news in AI when it comes to OpenAI?                                                             \n"
      ]
     },
     "metadata": {},
     "output_type": "display_data"
    },
    {
     "name": "stdout",
     "output_type": "stream",
     "text": [
      "\n",
      "🤖 ASSISTANT\n",
      "------------------------------------------------------------\n"
     ]
    },
    {
     "data": {
      "text/html": [
       "<pre style=\"white-space:pre;overflow-x:auto;line-height:normal;font-family:Menlo,'DejaVu Sans Mono',consolas,'Courier New',monospace\">OpenAI recently paused free access to its GPT-4o image-generation feature after a viral trend where users created  \n",
       "Studio Ghibli-style images, raising legal and ethical concerns. While paid subscribers retain access, OpenAI is    \n",
       "reevaluating due to copyright implications and the overwhelming popularity of the feature[3][2][1].                \n",
       "</pre>\n"
      ],
      "text/plain": [
       "OpenAI recently paused free access to its GPT-4o image-generation feature after a viral trend where users created  \n",
       "Studio Ghibli-style images, raising legal and ethical concerns. While paid subscribers retain access, OpenAI is    \n",
       "reevaluating due to copyright implications and the overwhelming popularity of the feature[3][2][1].                \n"
      ]
     },
     "metadata": {},
     "output_type": "display_data"
    },
    {
     "name": "stdout",
     "output_type": "stream",
     "text": [
      "\n",
      "Citations:\n",
      "1. The OpenAI Studio Ghibli controversy could be a test for art copyright ...: https://tech.yahoo.com/articles/openai-studio-ghibli-controversy-could-060000378.html\n",
      "2. OpenAI's GPT-4o Generates Studio Ghibli-Style Images Amid Copyright ...: https://www.binance.com/en/square/post/03-28-2025-openai-s-gpt-4o-generates-studio-ghibli-style-images-amid-copyright-concerns-22134493396594\n",
      "3. OpenAI pauses free GPT-4o image generation after viral Studio Ghibli ...: https://www.techedt.com/openai-pauses-free-gpt-4o-image-generation-after-viral-studio-ghibli-trend\n",
      "\n",
      "👤 USER\n",
      "------------------------------------------------------------\n"
     ]
    },
    {
     "data": {
      "text/html": [
       "<pre style=\"white-space:pre;overflow-x:auto;line-height:normal;font-family:Menlo,'DejaVu Sans Mono',consolas,'Courier New',monospace\">Which industries are most affected?                                                                                \n",
       "</pre>\n"
      ],
      "text/plain": [
       "Which industries are most affected?                                                                                \n"
      ]
     },
     "metadata": {},
     "output_type": "display_data"
    },
    {
     "name": "stdout",
     "output_type": "stream",
     "text": [
      "\n",
      "🤖 ASSISTANT\n",
      "------------------------------------------------------------\n"
     ]
    },
    {
     "data": {
      "text/html": [
       "<pre style=\"white-space:pre;overflow-x:auto;line-height:normal;font-family:Menlo,'DejaVu Sans Mono',consolas,'Courier New',monospace\">The industries most affected by AI developments like OpenAI's innovations, including its advanced capabilities such\n",
       "as image generation and language models, include:                                                                  \n",
       "\n",
       "<span style=\"color: #808000; text-decoration-color: #808000; font-weight: bold\"> 1 </span><span style=\"font-weight: bold\">Creative Industries</span>:                                                                                            \n",
       "<span style=\"color: #808000; text-decoration-color: #808000; font-weight: bold\">    • </span><span style=\"font-weight: bold\">Media and Entertainment</span>: AI-generated art styles (e.g., Studio Ghibli trend mentioned above) enable creators \n",
       "<span style=\"color: #808000; text-decoration-color: #808000; font-weight: bold\">      </span>to explore new aesthetics but also pose copyright risks.                                                     \n",
       "<span style=\"color: #808000; text-decoration-color: #808000; font-weight: bold\">    • </span><span style=\"font-weight: bold\">Gaming</span>: AI generates customized graphics and narratives.                                                     \n",
       "<span style=\"color: #808000; text-decoration-color: #808000; font-weight: bold\">    • </span><span style=\"font-weight: bold\">Publishing</span>: Automated content creation for blogs, articles, or creative writing.                             \n",
       "<span style=\"color: #808000; text-decoration-color: #808000; font-weight: bold\"> 2 </span><span style=\"font-weight: bold\">Healthcare</span>:                                                                                                     \n",
       "<span style=\"color: #808000; text-decoration-color: #808000; font-weight: bold\">    • </span>AI assists in diagnostics (e.g., medical imaging) and treatment recommendations, improving patient care      \n",
       "<span style=\"color: #808000; text-decoration-color: #808000; font-weight: bold\">      </span>efficiency.                                                                                                  \n",
       "<span style=\"color: #808000; text-decoration-color: #808000; font-weight: bold\">    • </span>Integration of AI chatbots for mental health and patient consultation.                                       \n",
       "<span style=\"color: #808000; text-decoration-color: #808000; font-weight: bold\"> 3 </span><span style=\"font-weight: bold\">Education and Training</span>:                                                                                         \n",
       "<span style=\"color: #808000; text-decoration-color: #808000; font-weight: bold\">    • </span>Personalized learning experiences through AI tutoring systems.                                               \n",
       "<span style=\"color: #808000; text-decoration-color: #808000; font-weight: bold\">    • </span>Creation of educational content using AI-based tools.                                                        \n",
       "<span style=\"color: #808000; text-decoration-color: #808000; font-weight: bold\"> 4 </span><span style=\"font-weight: bold\">Advertising and Marketing</span>:                                                                                      \n",
       "<span style=\"color: #808000; text-decoration-color: #808000; font-weight: bold\">    • </span>AI optimizes campaigns using data-driven strategies and generates vivid marketing visuals.                   \n",
       "<span style=\"color: #808000; text-decoration-color: #808000; font-weight: bold\">    • </span>Tools developed by OpenAI help automate copywriting and content brainstorming.                               \n",
       "<span style=\"color: #808000; text-decoration-color: #808000; font-weight: bold\"> 5 </span><span style=\"font-weight: bold\">Legal and Regulatory</span>:                                                                                           \n",
       "<span style=\"color: #808000; text-decoration-color: #808000; font-weight: bold\">    • </span>Legal sectors increasingly adopt AI for document review and drafting contracts.                              \n",
       "<span style=\"color: #808000; text-decoration-color: #808000; font-weight: bold\">    • </span>At the same time, copyright and ethical concerns stemming from AI-generated content include significant      \n",
       "<span style=\"color: #808000; text-decoration-color: #808000; font-weight: bold\">      </span>policy impacts.                                                                                              \n",
       "\n",
       "These advancements have brought immense possibilities but also ongoing discussions about ethical and legal         \n",
       "regulations, especially around intellectual property. OpenAI's recent halt of free access to GPT-4o                \n",
       "image-generation highlights such concerns as AI reshapes creative processes[3][2][1].                              \n",
       "</pre>\n"
      ],
      "text/plain": [
       "The industries most affected by AI developments like OpenAI's innovations, including its advanced capabilities such\n",
       "as image generation and language models, include:                                                                  \n",
       "\n",
       "\u001b[1;33m 1 \u001b[0m\u001b[1mCreative Industries\u001b[0m:                                                                                            \n",
       "\u001b[1;33m   \u001b[0m\u001b[1;33m • \u001b[0m\u001b[1mMedia and Entertainment\u001b[0m: AI-generated art styles (e.g., Studio Ghibli trend mentioned above) enable creators \n",
       "\u001b[1;33m   \u001b[0m\u001b[1;33m   \u001b[0mto explore new aesthetics but also pose copyright risks.                                                     \n",
       "\u001b[1;33m   \u001b[0m\u001b[1;33m • \u001b[0m\u001b[1mGaming\u001b[0m: AI generates customized graphics and narratives.                                                     \n",
       "\u001b[1;33m   \u001b[0m\u001b[1;33m • \u001b[0m\u001b[1mPublishing\u001b[0m: Automated content creation for blogs, articles, or creative writing.                             \n",
       "\u001b[1;33m 2 \u001b[0m\u001b[1mHealthcare\u001b[0m:                                                                                                     \n",
       "\u001b[1;33m   \u001b[0m\u001b[1;33m • \u001b[0mAI assists in diagnostics (e.g., medical imaging) and treatment recommendations, improving patient care      \n",
       "\u001b[1;33m   \u001b[0m\u001b[1;33m   \u001b[0mefficiency.                                                                                                  \n",
       "\u001b[1;33m   \u001b[0m\u001b[1;33m • \u001b[0mIntegration of AI chatbots for mental health and patient consultation.                                       \n",
       "\u001b[1;33m 3 \u001b[0m\u001b[1mEducation and Training\u001b[0m:                                                                                         \n",
       "\u001b[1;33m   \u001b[0m\u001b[1;33m • \u001b[0mPersonalized learning experiences through AI tutoring systems.                                               \n",
       "\u001b[1;33m   \u001b[0m\u001b[1;33m • \u001b[0mCreation of educational content using AI-based tools.                                                        \n",
       "\u001b[1;33m 4 \u001b[0m\u001b[1mAdvertising and Marketing\u001b[0m:                                                                                      \n",
       "\u001b[1;33m   \u001b[0m\u001b[1;33m • \u001b[0mAI optimizes campaigns using data-driven strategies and generates vivid marketing visuals.                   \n",
       "\u001b[1;33m   \u001b[0m\u001b[1;33m • \u001b[0mTools developed by OpenAI help automate copywriting and content brainstorming.                               \n",
       "\u001b[1;33m 5 \u001b[0m\u001b[1mLegal and Regulatory\u001b[0m:                                                                                           \n",
       "\u001b[1;33m   \u001b[0m\u001b[1;33m • \u001b[0mLegal sectors increasingly adopt AI for document review and drafting contracts.                              \n",
       "\u001b[1;33m   \u001b[0m\u001b[1;33m • \u001b[0mAt the same time, copyright and ethical concerns stemming from AI-generated content include significant      \n",
       "\u001b[1;33m   \u001b[0m\u001b[1;33m   \u001b[0mpolicy impacts.                                                                                              \n",
       "\n",
       "These advancements have brought immense possibilities but also ongoing discussions about ethical and legal         \n",
       "regulations, especially around intellectual property. OpenAI's recent halt of free access to GPT-4o                \n",
       "image-generation highlights such concerns as AI reshapes creative processes[3][2][1].                              \n"
      ]
     },
     "metadata": {},
     "output_type": "display_data"
    },
    {
     "name": "stdout",
     "output_type": "stream",
     "text": [
      "\n",
      "Citations:\n",
      "1. The OpenAI Studio Ghibli controversy could be a test for art copyright ...: https://tech.yahoo.com/articles/openai-studio-ghibli-controversy-could-060000378.html\n",
      "2. OpenAI's GPT-4o Generates Studio Ghibli-Style Images Amid Copyright ...: https://www.binance.com/en/square/post/03-28-2025-openai-s-gpt-4o-generates-studio-ghibli-style-images-amid-copyright-concerns-22134493396594\n",
      "3. OpenAI pauses free GPT-4o image generation after viral Studio Ghibli ...: https://www.techedt.com/openai-pauses-free-gpt-4o-image-generation-after-viral-studio-ghibli-trend\n"
     ]
    }
   ],
   "source": [
    "from utils.helper import pretty_print_thread_messages\n",
    "\n",
    "messages = project_client.agents.list_messages(thread_id=thread.id)\n",
    "pretty_print_thread_messages(messages)"
   ]
  },
  {
   "cell_type": "markdown",
   "metadata": {},
   "source": [
    "## 9. Cleanup\n",
    "\n",
    "When we're finished with our agent and thread, it's good practice to clean up these resources. This helps manage resource usage and keeps your environment tidy.\n",
    "\n",
    "In a production environment, you might retain threads for longer periods to maintain conversation history, but for this demonstration we'll delete both the agent and thread."
   ]
  },
  {
   "cell_type": "code",
   "execution_count": 13,
   "metadata": {},
   "outputs": [
    {
     "name": "stdout",
     "output_type": "stream",
     "text": [
      "Deleted agent\n",
      "thread: thread_wh17E6I63RgGUFvtoQhigF1V deleted\n"
     ]
    }
   ],
   "source": [
    "# Delete the agent when done\n",
    "project_client.agents.delete_agent(agent.id)\n",
    "print(\"Deleted agent\")\n",
    "\n",
    "# Delete Thread when done\n",
    "project_client.agents.delete_thread(thread_id=thread.id)\n",
    "print(f\"thread: {thread.id} deleted\")"
   ]
  },
  {
   "cell_type": "code",
   "execution_count": null,
   "metadata": {},
   "outputs": [],
   "source": []
  }
 ],
 "metadata": {
  "kernelspec": {
   "display_name": "ericsson-demo",
   "language": "python",
   "name": "python3"
  },
  "language_info": {
   "codemirror_mode": {
    "name": "ipython",
    "version": 3
   },
   "file_extension": ".py",
   "mimetype": "text/x-python",
   "name": "python",
   "nbconvert_exporter": "python",
   "pygments_lexer": "ipython3",
   "version": "3.10.0"
  }
 },
 "nbformat": 4,
 "nbformat_minor": 2
}
