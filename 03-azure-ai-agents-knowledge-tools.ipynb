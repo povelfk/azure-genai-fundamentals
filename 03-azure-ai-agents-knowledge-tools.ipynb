{
 "cells": [
  {
   "cell_type": "markdown",
   "metadata": {},
   "source": [
    "**Imports**"
   ]
  },
  {
   "cell_type": "code",
   "execution_count": 1,
   "metadata": {},
   "outputs": [
    {
     "data": {
      "text/plain": [
       "True"
      ]
     },
     "execution_count": 1,
     "metadata": {},
     "output_type": "execute_result"
    }
   ],
   "source": [
    "import os\n",
    "import dotenv\n",
    "dotenv.load_dotenv(\".env\")"
   ]
  },
  {
   "cell_type": "markdown",
   "metadata": {},
   "source": [
    "**Create Client**"
   ]
  },
  {
   "cell_type": "code",
   "execution_count": 2,
   "metadata": {},
   "outputs": [],
   "source": [
    "from azure.ai.projects import AIProjectClient\n",
    "from azure.identity import DefaultAzureCredential\n",
    "\n",
    "# Create an Azure AI Client from a connection string, copied from your Azure AI Foundry project.\n",
    "# It should be in the format \"<HostName>;<AzureSubscriptionId>;<ResourceGroup>;<HubName>\"\n",
    "# Customers need to login to Azure subscription via Azure CLI and set the environment variables\n",
    "\n",
    "project_client = AIProjectClient.from_connection_string(\n",
    "    credential=DefaultAzureCredential(),\n",
    "    conn_str=os.environ[\"PROJECT_CONNECTION_STRING\"],\n",
    ")"
   ]
  },
  {
   "cell_type": "markdown",
   "metadata": {},
   "source": [
    "**Knowledge Tools**"
   ]
  },
  {
   "cell_type": "code",
   "execution_count": 3,
   "metadata": {},
   "outputs": [
    {
     "name": "stdout",
     "output_type": "stream",
     "text": [
      "/subscriptions/4ce7ad8d-95ed-4652-bd4a-5f2af19d29cb/resourceGroups/rg-ericsson-learning-path/providers/Microsoft.MachineLearningServices/workspaces/ericsson-learning-path-project/connections/bingericssonlearningpath\n"
     ]
    }
   ],
   "source": [
    "from azure.ai.projects.models import BingGroundingTool\n",
    "\n",
    "bing_connection = project_client.connections.get(\n",
    "    connection_name=os.environ[\"BING_CONNECTION_NAME\"]\n",
    ")\n",
    "conn_id = bing_connection.id\n",
    "\n",
    "print(conn_id)\n",
    "\n",
    "# Initialize agent bing tool and add the connection id\n",
    "bing = BingGroundingTool(connection_id=conn_id)"
   ]
  },
  {
   "cell_type": "markdown",
   "metadata": {},
   "source": [
    "**Create Agent**"
   ]
  },
  {
   "cell_type": "code",
   "execution_count": 4,
   "metadata": {},
   "outputs": [
    {
     "name": "stdout",
     "output_type": "stream",
     "text": [
      "Created agent, ID: asst_Bi7hfZ4Be1465NnU9W6IooY0\n"
     ]
    }
   ],
   "source": [
    "from azure.ai.projects.models import FunctionTool\n",
    "\n",
    "agent = project_client.agents.create_agent(\n",
    "    name=\"my-knowledge-tool-agent\",\n",
    "    model=os.getenv(\"chatModel\"),\n",
    "    instructions=\"You are a helpful assistant\",\n",
    "    tools=bing.definitions,\n",
    "    # headers={\"x-ms-enable-preview\": \"true\"},\n",
    ")\n",
    "\n",
    "print(f\"Created agent, ID: {agent.id}\")"
   ]
  },
  {
   "cell_type": "markdown",
   "metadata": {},
   "source": [
    "**Create Thread & Adding Message**"
   ]
  },
  {
   "cell_type": "code",
   "execution_count": 5,
   "metadata": {},
   "outputs": [],
   "source": [
    "user_message = \"hi, what's the weather in New York?\"\n",
    "# user_message = \"Do a web search for latest news in AI\"\n",
    "user_message = \"What is the latest news in AI when it comes to Google?\""
   ]
  },
  {
   "cell_type": "code",
   "execution_count": 6,
   "metadata": {},
   "outputs": [
    {
     "name": "stdout",
     "output_type": "stream",
     "text": [
      "Created message, ID: msg_sqb0skR34FuQ4WsOn9VnjQs4\n"
     ]
    }
   ],
   "source": [
    "# with project_client:\n",
    "thread = project_client.agents.create_thread()\n",
    "agent = project_client.agents.get_agent(agent_id=agent.id)\n",
    "\n",
    "message = project_client.agents.create_message(\n",
    "    thread_id=thread.id,\n",
    "    role=\"user\",\n",
    "    content=user_message,\n",
    ")\n",
    "print(f\"Created message, ID: {message.id}\")"
   ]
  },
  {
   "cell_type": "markdown",
   "metadata": {},
   "source": [
    "**Running Agent with Thread**"
   ]
  },
  {
   "cell_type": "code",
   "execution_count": 7,
   "metadata": {},
   "outputs": [
    {
     "name": "stdout",
     "output_type": "stream",
     "text": [
      "Run finished with status: RunStatus.COMPLETED\n"
     ]
    }
   ],
   "source": [
    "from azure.ai.projects.models import MessageRole\n",
    "\n",
    "# Create and process agent run in thread with tools\n",
    "run = project_client.agents.create_and_process_run(thread_id=thread.id, agent_id=agent.id)\n",
    "print(f\"Run finished with status: {run.status}\")\n",
    "\n",
    "if run.status == \"failed\":\n",
    "    print(f\"Run failed: {run.last_error}\")"
   ]
  },
  {
   "cell_type": "code",
   "execution_count": 9,
   "metadata": {},
   "outputs": [
    {
     "name": "stdout",
     "output_type": "stream",
     "text": [
      "Message (MessageRole.USER): What is the latest news in AI when it comes to Google?\n",
      "Message (MessageRole.AGENT): The latest news in AI from Google involves the unveiling of Gemini 2.5, the company's most advanced AI model to date. This new AI reasoning model introduces a capability to pause and \"think\" before responding, significantly enhancing its accuracy and performance across various tasks, including coding and mathematics. Gemini 2.5 is available in the Gemini app for subscribers and on Google's developer platform, Google AI Studio【3†source】【0†source】.\n",
      "URL Citation: [Google unveils a next-gen family of AI reasoning models](https://techcrunch.com/2025/03/25/google-unveils-a-next-gen-ai-reasoning-model/)\n",
      "URL Citation: [Google Unveils Gemini 2.5, Its Most Advanced AI Model Yet: Here’s How It Works And What It Offers](https://in.mashable.com/tech/91750/google-unveils-gemini-25-its-most-advanced-ai-model-yet-heres-how-it-works-and-what-it-offers)\n"
     ]
    }
   ],
   "source": [
    "# Fetch and log all messages\n",
    "messages = project_client.agents.list_messages(thread_id=thread.id)\n",
    "\n",
    "for m in reversed(messages.data):\n",
    "    if m.content[0].text.annotations:\n",
    "        print(f\"Message ({m.role}): {m.content[0].text.value}\")\n",
    "        for ref in m.content[0].text.annotations:\n",
    "            print(f\"URL Citation: [{ref.url_citation.title}]({ref.url_citation.url})\")\n",
    "    else:\n",
    "        print(f\"Message ({m.role}): {m.content[0].text.value}\")"
   ]
  },
  {
   "cell_type": "markdown",
   "metadata": {},
   "source": [
    "**Delete Agent & Thread**"
   ]
  },
  {
   "cell_type": "code",
   "execution_count": 10,
   "metadata": {},
   "outputs": [
    {
     "name": "stdout",
     "output_type": "stream",
     "text": [
      "Deleted agent\n",
      "thread: thread_sSrf7iZwEx4xYLRCrCU3UI3e deleted\n"
     ]
    }
   ],
   "source": [
    "# Delete the agent when done\n",
    "project_client.agents.delete_agent(agent.id)\n",
    "print(\"Deleted agent\")\n",
    "\n",
    "# Delete Thread when done\n",
    "project_client.agents.delete_thread(thread_id=thread.id)\n",
    "print(f\"thread: {thread.id} deleted\")"
   ]
  },
  {
   "cell_type": "code",
   "execution_count": null,
   "metadata": {},
   "outputs": [],
   "source": []
  },
  {
   "cell_type": "code",
   "execution_count": null,
   "metadata": {},
   "outputs": [],
   "source": []
  }
 ],
 "metadata": {
  "kernelspec": {
   "display_name": "azure-ai-agents",
   "language": "python",
   "name": "python3"
  },
  "language_info": {
   "codemirror_mode": {
    "name": "ipython",
    "version": 3
   },
   "file_extension": ".py",
   "mimetype": "text/x-python",
   "name": "python",
   "nbconvert_exporter": "python",
   "pygments_lexer": "ipython3",
   "version": "3.11.0"
  }
 },
 "nbformat": 4,
 "nbformat_minor": 2
}
