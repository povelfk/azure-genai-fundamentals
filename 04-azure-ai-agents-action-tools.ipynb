{
 "cells": [
  {
   "cell_type": "markdown",
   "metadata": {},
   "source": [
    "# **Azure AI Agents Service**\n",
    "\n",
    "## Overview\n",
    "Azure AI Agents Service enables you to create and deploy intelligent agents that understand natural language, perform actions, and help users accomplish tasks. These agents integrate with your data sources and services through custom functions, providing powerful conversational AI capabilities.\n",
    "\n",
    "## Key Concepts\n",
    "\n",
    "### 1. Agent Functions\n",
    "Functions extend your agent's abilities by letting it:\n",
    "- Search the web for information (demonstrated with Tavily search integration)\n",
    "- Access external data sources (like weather information)\n",
    "- Execute custom business logic\n",
    "- Interact with your organization's systems and APIs\n",
    "\n",
    "### 2. Agent Creation and Configuration\n",
    "When creating your agent:\n",
    "- Select an AI model (like GPT-4o)\n",
    "- Define custom instructions to shape personality and behavior\n",
    "- Register function tools that the agent can use\n",
    "- Configure authentication and security settings\n",
    "\n",
    "### 3. Threads and Messages\n",
    "Conversations with agents happen within threads:\n",
    "- Create a thread to establish a conversation context\n",
    "- Add user messages to the thread\n",
    "- Run the agent to process messages and generate responses\n",
    "\n",
    "### 4. Tool Execution Flow\n",
    "When an agent needs information:\n",
    "1. The agent identifies when to use a tool\n",
    "2. Your application receives the tool call request\n",
    "3. Your code executes the appropriate function\n",
    "4. You submit results back to the agent\n",
    "5. The agent incorporates the results into its response\n",
    "\n",
    "## Resources\n",
    "* [Azure AI Agents documentation](https://learn.microsoft.com/azure/ai-services/azure-ai-agent)\n",
    "* [AI Studio](https://ai.azure.com)"
   ]
  },
  {
   "cell_type": "markdown",
   "metadata": {},
   "source": [
    "**Imports**"
   ]
  },
  {
   "cell_type": "code",
   "execution_count": 1,
   "metadata": {},
   "outputs": [
    {
     "data": {
      "text/plain": [
       "True"
      ]
     },
     "execution_count": 1,
     "metadata": {},
     "output_type": "execute_result"
    }
   ],
   "source": [
    "import os\n",
    "import dotenv\n",
    "dotenv.load_dotenv(\".env\")"
   ]
  },
  {
   "cell_type": "markdown",
   "metadata": {},
   "source": [
    "**Create Client**"
   ]
  },
  {
   "cell_type": "code",
   "execution_count": 2,
   "metadata": {},
   "outputs": [],
   "source": [
    "from azure.ai.projects import AIProjectClient\n",
    "from azure.identity import DefaultAzureCredential\n",
    "\n",
    "# Create an Azure AI Client from a connection string, copied from your Azure AI Foundry project.\n",
    "# It should be in the format \"<HostName>;<AzureSubscriptionId>;<ResourceGroup>;<HubName>\"\n",
    "# Customers need to login to Azure subscription via Azure CLI and set the environment variables\n",
    "\n",
    "project_client = AIProjectClient.from_connection_string(\n",
    "    credential=DefaultAzureCredential(),\n",
    "    conn_str=os.environ[\"PROJECT_CONNECTION_STRING\"],\n",
    ")"
   ]
  },
  {
   "cell_type": "markdown",
   "metadata": {},
   "source": [
    "**Action Tools**"
   ]
  },
  {
   "cell_type": "code",
   "execution_count": null,
   "metadata": {},
   "outputs": [],
   "source": [
    "import json\n",
    "from typing import Any, Callable, Set, Dict, List, Optional\n",
    "from tavily import TavilyClient\n",
    "\n",
    "def tavily_web_search(search_query: str, max_results: int = 3) -> List[Dict[str, Any]]:\n",
    "    \"\"\"\n",
    "    Performs a web search using Tavily and returns the results.\n",
    "\n",
    "    :param search_query (str): The query string to search for.\n",
    "    :param max_results (int): Maximum number of results to return. Defaults to 3.\n",
    "    :return: List of search result dictionaries.\n",
    "    :rtype: List[Dict[str, Any]]\n",
    "    \"\"\"\n",
    "    try:\n",
    "        tavily_client = TavilyClient(api_key=os.getenv(\"TAVILY_API_KEY\"))\n",
    "        response = tavily_client.search(search_query, max_results=max_results)\n",
    "\n",
    "        if isinstance(response, dict):\n",
    "            return response\n",
    "        else:\n",
    "            return json.loads(response)\n",
    "    except Exception as e:\n",
    "        return {\"error\": str(e), \"results\": []}\n",
    "    \n",
    "def fetch_weather(location: str) -> str:\n",
    "    \"\"\"\n",
    "    Fetches the weather information for the specified location.\n",
    "\n",
    "    :param location (str): The location to fetch weather for.\n",
    "    :return: Weather information as a JSON string.\n",
    "    :rtype: str\n",
    "    \"\"\"\n",
    "    # In a real-world scenario, you'd integrate with a weather API.\n",
    "    # Here, we'll mock the response.\n",
    "    mock_weather_data = {\"New York\": \"Sunny, 25°C\", \"London\": \"Cloudy, 18°C\", \"Tokyo\": \"Rainy, 22°C\"}\n",
    "    weather = mock_weather_data.get(location, \"Weather data not available for this location.\")\n",
    "    weather_json = json.dumps({\"weather\": weather})\n",
    "    return weather_json\n",
    "\n",
    "\n",
    "# Statically defined user functions for fast reference\n",
    "agent_functions: Set[Callable[..., Any]] = {\n",
    "    tavily_web_search,\n",
    "    fetch_weather\n",
    "}\n"
   ]
  },
  {
   "cell_type": "markdown",
   "metadata": {},
   "source": [
    "**Create Agent**"
   ]
  },
  {
   "cell_type": "code",
   "execution_count": 7,
   "metadata": {},
   "outputs": [
    {
     "data": {
      "text/plain": [
       "'https://swedencentral.api.azureml.ms'"
      ]
     },
     "execution_count": 7,
     "metadata": {},
     "output_type": "execute_result"
    }
   ],
   "source": [
    "project_client.agents._config.endpoint"
   ]
  },
  {
   "cell_type": "code",
   "execution_count": 4,
   "metadata": {},
   "outputs": [
    {
     "ename": "ResourceNotFoundError",
     "evalue": "() Service invocation failed!\r\nRequest: GET account-rp.vienna-swedencentral.svc/rp/workspaces/subscriptions/4ce7ad8d-95ed-4652-bd4a-5f2af19d29cb/resourceGroups/rg-ericsson-learning-path/providers/Microsoft.MachineLearningServices/workspaces/ericsson-learning-path-project/connections/aoaiericssonlearningpath\r\nStatus Code: 404 NotFound\r\nError Code: UserError/NotFoundError\r\nReason Phrase: Connection aoaiericssonlearningpath can't be found in this workspace\r\nResponse Body: {\n  \"error\": {\n    \"code\": \"UserError\",\n    \"severity\": null,\n    \"message\": \"Connection aoaiericssonlearningpath can't be found in this workspace\",\n    \"messageFormat\": null,\n    \"messageParameters\": null,\n    \"referenceCode\": null,\n    \"detailsUri\": null,\n    \"target\": null,\n    \"details\": [],\n    \"innerError\": {\n      \"code\": \"NotFoundError\",\n      \"innerError\": null\n    },\n    \"debugInfo\": null,\n    \"additionalInfo\": null\n  },\n  \"correlation\": {\n    \"operation\": \"e116e1456ff23050f4b0a34cc5aa3a77\",\n    \"request\": \"7ba5f900e792f731\"\n  },\n  \"environment\": \"swedencentral\",\n  \"location\": \"swedencentral\",\n  \"time\": \"2025-04-03T10:20:17.7075295+00:00\",\n  \"componentName\": \"account-rp\",\n  \"statusCode\": 404\n}\nCode: \nMessage: Service invocation failed!\r\nRequest: GET account-rp.vienna-swedencentral.svc/rp/workspaces/subscriptions/4ce7ad8d-95ed-4652-bd4a-5f2af19d29cb/resourceGroups/rg-ericsson-learning-path/providers/Microsoft.MachineLearningServices/workspaces/ericsson-learning-path-project/connections/aoaiericssonlearningpath\r\nStatus Code: 404 NotFound\r\nError Code: UserError/NotFoundError\r\nReason Phrase: Connection aoaiericssonlearningpath can't be found in this workspace\r\nResponse Body: {\n  \"error\": {\n    \"code\": \"UserError\",\n    \"severity\": null,\n    \"message\": \"Connection aoaiericssonlearningpath can't be found in this workspace\",\n    \"messageFormat\": null,\n    \"messageParameters\": null,\n    \"referenceCode\": null,\n    \"detailsUri\": null,\n    \"target\": null,\n    \"details\": [],\n    \"innerError\": {\n      \"code\": \"NotFoundError\",\n      \"innerError\": null\n    },\n    \"debugInfo\": null,\n    \"additionalInfo\": null\n  },\n  \"correlation\": {\n    \"operation\": \"e116e1456ff23050f4b0a34cc5aa3a77\",\n    \"request\": \"7ba5f900e792f731\"\n  },\n  \"environment\": \"swedencentral\",\n  \"location\": \"swedencentral\",\n  \"time\": \"2025-04-03T10:20:17.7075295+00:00\",\n  \"componentName\": \"account-rp\",\n  \"statusCode\": 404\n}",
     "output_type": "error",
     "traceback": [
      "\u001b[1;31m---------------------------------------------------------------------------\u001b[0m",
      "\u001b[1;31mResourceNotFoundError\u001b[0m                     Traceback (most recent call last)",
      "Cell \u001b[1;32mIn[4], line 5\u001b[0m\n\u001b[0;32m      1\u001b[0m \u001b[38;5;28;01mfrom\u001b[39;00m \u001b[38;5;21;01mazure\u001b[39;00m\u001b[38;5;21;01m.\u001b[39;00m\u001b[38;5;21;01mai\u001b[39;00m\u001b[38;5;21;01m.\u001b[39;00m\u001b[38;5;21;01mprojects\u001b[39;00m\u001b[38;5;21;01m.\u001b[39;00m\u001b[38;5;21;01mmodels\u001b[39;00m \u001b[38;5;28;01mimport\u001b[39;00m FunctionTool\n\u001b[0;32m      3\u001b[0m functions \u001b[38;5;241m=\u001b[39m FunctionTool(functions\u001b[38;5;241m=\u001b[39magent_functions)\n\u001b[1;32m----> 5\u001b[0m agent \u001b[38;5;241m=\u001b[39m \u001b[43mproject_client\u001b[49m\u001b[38;5;241;43m.\u001b[39;49m\u001b[43magents\u001b[49m\u001b[38;5;241;43m.\u001b[39;49m\u001b[43mcreate_agent\u001b[49m\u001b[43m(\u001b[49m\n\u001b[0;32m      6\u001b[0m \u001b[43m    \u001b[49m\u001b[43mname\u001b[49m\u001b[38;5;241;43m=\u001b[39;49m\u001b[38;5;124;43m\"\u001b[39;49m\u001b[38;5;124;43mmy-action-tool-agent\u001b[39;49m\u001b[38;5;124;43m\"\u001b[39;49m\u001b[43m,\u001b[49m\n\u001b[0;32m      7\u001b[0m \u001b[43m    \u001b[49m\u001b[43mmodel\u001b[49m\u001b[38;5;241;43m=\u001b[39;49m\u001b[43mos\u001b[49m\u001b[38;5;241;43m.\u001b[39;49m\u001b[43mgetenv\u001b[49m\u001b[43m(\u001b[49m\u001b[38;5;124;43m\"\u001b[39;49m\u001b[38;5;124;43mchatModel\u001b[39;49m\u001b[38;5;124;43m\"\u001b[39;49m\u001b[43m)\u001b[49m\u001b[43m,\u001b[49m\n\u001b[0;32m      8\u001b[0m \u001b[43m    \u001b[49m\u001b[43minstructions\u001b[49m\u001b[38;5;241;43m=\u001b[39;49m\u001b[38;5;124;43m\"\u001b[39;49m\u001b[38;5;124;43mYou are a helpful assistant\u001b[39;49m\u001b[38;5;124;43m\"\u001b[39;49m\u001b[43m,\u001b[49m\n\u001b[0;32m      9\u001b[0m \u001b[43m    \u001b[49m\u001b[43mtools\u001b[49m\u001b[38;5;241;43m=\u001b[39;49m\u001b[43mfunctions\u001b[49m\u001b[38;5;241;43m.\u001b[39;49m\u001b[43mdefinitions\u001b[49m\u001b[43m,\u001b[49m\n\u001b[0;32m     10\u001b[0m \u001b[43m)\u001b[49m\n\u001b[0;32m     12\u001b[0m \u001b[38;5;28mprint\u001b[39m(\u001b[38;5;124mf\u001b[39m\u001b[38;5;124m\"\u001b[39m\u001b[38;5;124mCreated agent, ID: \u001b[39m\u001b[38;5;132;01m{\u001b[39;00magent\u001b[38;5;241m.\u001b[39mid\u001b[38;5;132;01m}\u001b[39;00m\u001b[38;5;124m\"\u001b[39m)\n",
      "File \u001b[1;32mc:\\Users\\povelf\\AppData\\Local\\miniconda3\\envs\\ericsson-demo\\lib\\site-packages\\azure\\core\\tracing\\decorator.py:116\u001b[0m, in \u001b[0;36mdistributed_trace.<locals>.decorator.<locals>.wrapper_use_tracer\u001b[1;34m(*args, **kwargs)\u001b[0m\n\u001b[0;32m    114\u001b[0m \u001b[38;5;28;01mfor\u001b[39;00m key, value \u001b[38;5;129;01min\u001b[39;00m func_tracing_attributes\u001b[38;5;241m.\u001b[39mitems():\n\u001b[0;32m    115\u001b[0m     span\u001b[38;5;241m.\u001b[39madd_attribute(key, value)\n\u001b[1;32m--> 116\u001b[0m \u001b[38;5;28;01mreturn\u001b[39;00m func(\u001b[38;5;241m*\u001b[39margs, \u001b[38;5;241m*\u001b[39m\u001b[38;5;241m*\u001b[39mkwargs)\n",
      "File \u001b[1;32mc:\\Users\\povelf\\AppData\\Local\\miniconda3\\envs\\ericsson-demo\\lib\\site-packages\\azure\\ai\\projects\\operations\\_patch.py:1062\u001b[0m, in \u001b[0;36mAgentsOperations.create_agent\u001b[1;34m(self, body, model, name, description, instructions, tools, tool_resources, toolset, temperature, top_p, response_format, metadata, content_type, **kwargs)\u001b[0m\n\u001b[0;32m   1059\u001b[0m     tools \u001b[38;5;241m=\u001b[39m toolset\u001b[38;5;241m.\u001b[39mdefinitions\n\u001b[0;32m   1060\u001b[0m     tool_resources \u001b[38;5;241m=\u001b[39m toolset\u001b[38;5;241m.\u001b[39mresources\n\u001b[1;32m-> 1062\u001b[0m new_agent \u001b[38;5;241m=\u001b[39m \u001b[38;5;28msuper\u001b[39m()\u001b[38;5;241m.\u001b[39mcreate_agent(\n\u001b[0;32m   1063\u001b[0m     model\u001b[38;5;241m=\u001b[39mmodel,\n\u001b[0;32m   1064\u001b[0m     name\u001b[38;5;241m=\u001b[39mname,\n\u001b[0;32m   1065\u001b[0m     description\u001b[38;5;241m=\u001b[39mdescription,\n\u001b[0;32m   1066\u001b[0m     instructions\u001b[38;5;241m=\u001b[39minstructions,\n\u001b[0;32m   1067\u001b[0m     tools\u001b[38;5;241m=\u001b[39mtools,\n\u001b[0;32m   1068\u001b[0m     tool_resources\u001b[38;5;241m=\u001b[39mtool_resources,\n\u001b[0;32m   1069\u001b[0m     temperature\u001b[38;5;241m=\u001b[39mtemperature,\n\u001b[0;32m   1070\u001b[0m     top_p\u001b[38;5;241m=\u001b[39mtop_p,\n\u001b[0;32m   1071\u001b[0m     response_format\u001b[38;5;241m=\u001b[39mresponse_format,\n\u001b[0;32m   1072\u001b[0m     metadata\u001b[38;5;241m=\u001b[39mmetadata,\n\u001b[0;32m   1073\u001b[0m     \u001b[38;5;241m*\u001b[39m\u001b[38;5;241m*\u001b[39mkwargs,\n\u001b[0;32m   1074\u001b[0m )\n\u001b[0;32m   1076\u001b[0m \u001b[38;5;28;01mif\u001b[39;00m toolset \u001b[38;5;129;01mis\u001b[39;00m \u001b[38;5;129;01mnot\u001b[39;00m \u001b[38;5;28;01mNone\u001b[39;00m:\n\u001b[0;32m   1077\u001b[0m     \u001b[38;5;28mself\u001b[39m\u001b[38;5;241m.\u001b[39m_toolset[new_agent\u001b[38;5;241m.\u001b[39mid] \u001b[38;5;241m=\u001b[39m toolset\n",
      "File \u001b[1;32mc:\\Users\\povelf\\AppData\\Local\\miniconda3\\envs\\ericsson-demo\\lib\\site-packages\\azure\\core\\tracing\\decorator.py:116\u001b[0m, in \u001b[0;36mdistributed_trace.<locals>.decorator.<locals>.wrapper_use_tracer\u001b[1;34m(*args, **kwargs)\u001b[0m\n\u001b[0;32m    114\u001b[0m \u001b[38;5;28;01mfor\u001b[39;00m key, value \u001b[38;5;129;01min\u001b[39;00m func_tracing_attributes\u001b[38;5;241m.\u001b[39mitems():\n\u001b[0;32m    115\u001b[0m     span\u001b[38;5;241m.\u001b[39madd_attribute(key, value)\n\u001b[1;32m--> 116\u001b[0m \u001b[38;5;28;01mreturn\u001b[39;00m func(\u001b[38;5;241m*\u001b[39margs, \u001b[38;5;241m*\u001b[39m\u001b[38;5;241m*\u001b[39mkwargs)\n",
      "File \u001b[1;32mc:\\Users\\povelf\\AppData\\Local\\miniconda3\\envs\\ericsson-demo\\lib\\site-packages\\azure\\ai\\projects\\operations\\_operations.py:1756\u001b[0m, in \u001b[0;36mAgentsOperations.create_agent\u001b[1;34m(self, body, model, name, description, instructions, tools, tool_resources, temperature, top_p, response_format, metadata, **kwargs)\u001b[0m\n\u001b[0;32m   1754\u001b[0m         \u001b[38;5;28;01mexcept\u001b[39;00m (StreamConsumedError, StreamClosedError):\n\u001b[0;32m   1755\u001b[0m             \u001b[38;5;28;01mpass\u001b[39;00m\n\u001b[1;32m-> 1756\u001b[0m     \u001b[43mmap_error\u001b[49m\u001b[43m(\u001b[49m\u001b[43mstatus_code\u001b[49m\u001b[38;5;241;43m=\u001b[39;49m\u001b[43mresponse\u001b[49m\u001b[38;5;241;43m.\u001b[39;49m\u001b[43mstatus_code\u001b[49m\u001b[43m,\u001b[49m\u001b[43m \u001b[49m\u001b[43mresponse\u001b[49m\u001b[38;5;241;43m=\u001b[39;49m\u001b[43mresponse\u001b[49m\u001b[43m,\u001b[49m\u001b[43m \u001b[49m\u001b[43merror_map\u001b[49m\u001b[38;5;241;43m=\u001b[39;49m\u001b[43merror_map\u001b[49m\u001b[43m)\u001b[49m\n\u001b[0;32m   1757\u001b[0m     \u001b[38;5;28;01mraise\u001b[39;00m HttpResponseError(response\u001b[38;5;241m=\u001b[39mresponse)\n\u001b[0;32m   1759\u001b[0m \u001b[38;5;28;01mif\u001b[39;00m _stream:\n",
      "File \u001b[1;32mc:\\Users\\povelf\\AppData\\Local\\miniconda3\\envs\\ericsson-demo\\lib\\site-packages\\azure\\core\\exceptions.py:163\u001b[0m, in \u001b[0;36mmap_error\u001b[1;34m(status_code, response, error_map)\u001b[0m\n\u001b[0;32m    161\u001b[0m     \u001b[38;5;28;01mreturn\u001b[39;00m\n\u001b[0;32m    162\u001b[0m error \u001b[38;5;241m=\u001b[39m error_type(response\u001b[38;5;241m=\u001b[39mresponse)\n\u001b[1;32m--> 163\u001b[0m \u001b[38;5;28;01mraise\u001b[39;00m error\n",
      "\u001b[1;31mResourceNotFoundError\u001b[0m: () Service invocation failed!\r\nRequest: GET account-rp.vienna-swedencentral.svc/rp/workspaces/subscriptions/4ce7ad8d-95ed-4652-bd4a-5f2af19d29cb/resourceGroups/rg-ericsson-learning-path/providers/Microsoft.MachineLearningServices/workspaces/ericsson-learning-path-project/connections/aoaiericssonlearningpath\r\nStatus Code: 404 NotFound\r\nError Code: UserError/NotFoundError\r\nReason Phrase: Connection aoaiericssonlearningpath can't be found in this workspace\r\nResponse Body: {\n  \"error\": {\n    \"code\": \"UserError\",\n    \"severity\": null,\n    \"message\": \"Connection aoaiericssonlearningpath can't be found in this workspace\",\n    \"messageFormat\": null,\n    \"messageParameters\": null,\n    \"referenceCode\": null,\n    \"detailsUri\": null,\n    \"target\": null,\n    \"details\": [],\n    \"innerError\": {\n      \"code\": \"NotFoundError\",\n      \"innerError\": null\n    },\n    \"debugInfo\": null,\n    \"additionalInfo\": null\n  },\n  \"correlation\": {\n    \"operation\": \"e116e1456ff23050f4b0a34cc5aa3a77\",\n    \"request\": \"7ba5f900e792f731\"\n  },\n  \"environment\": \"swedencentral\",\n  \"location\": \"swedencentral\",\n  \"time\": \"2025-04-03T10:20:17.7075295+00:00\",\n  \"componentName\": \"account-rp\",\n  \"statusCode\": 404\n}\nCode: \nMessage: Service invocation failed!\r\nRequest: GET account-rp.vienna-swedencentral.svc/rp/workspaces/subscriptions/4ce7ad8d-95ed-4652-bd4a-5f2af19d29cb/resourceGroups/rg-ericsson-learning-path/providers/Microsoft.MachineLearningServices/workspaces/ericsson-learning-path-project/connections/aoaiericssonlearningpath\r\nStatus Code: 404 NotFound\r\nError Code: UserError/NotFoundError\r\nReason Phrase: Connection aoaiericssonlearningpath can't be found in this workspace\r\nResponse Body: {\n  \"error\": {\n    \"code\": \"UserError\",\n    \"severity\": null,\n    \"message\": \"Connection aoaiericssonlearningpath can't be found in this workspace\",\n    \"messageFormat\": null,\n    \"messageParameters\": null,\n    \"referenceCode\": null,\n    \"detailsUri\": null,\n    \"target\": null,\n    \"details\": [],\n    \"innerError\": {\n      \"code\": \"NotFoundError\",\n      \"innerError\": null\n    },\n    \"debugInfo\": null,\n    \"additionalInfo\": null\n  },\n  \"correlation\": {\n    \"operation\": \"e116e1456ff23050f4b0a34cc5aa3a77\",\n    \"request\": \"7ba5f900e792f731\"\n  },\n  \"environment\": \"swedencentral\",\n  \"location\": \"swedencentral\",\n  \"time\": \"2025-04-03T10:20:17.7075295+00:00\",\n  \"componentName\": \"account-rp\",\n  \"statusCode\": 404\n}"
     ]
    }
   ],
   "source": [
    "from azure.ai.projects.models import FunctionTool\n",
    "\n",
    "functions = FunctionTool(functions=agent_functions)\n",
    "\n",
    "agent = project_client.agents.create_agent(\n",
    "    name=\"my-action-tool-agent\",\n",
    "    model=os.getenv(\"chatModel\"),\n",
    "    instructions=\"You are a helpful assistant\",\n",
    "    tools=functions.definitions,\n",
    ")\n",
    "\n",
    "print(f\"Created agent, ID: {agent.id}\")"
   ]
  },
  {
   "cell_type": "markdown",
   "metadata": {},
   "source": [
    "**Create Thread & Adding Message**"
   ]
  },
  {
   "cell_type": "code",
   "execution_count": 5,
   "metadata": {},
   "outputs": [],
   "source": [
    "# user_message = \"hi, what's the weather in New York?\"\n",
    "user_message = \"Do a web search for latest news in AI\"\n",
    "# user_message = \"What is the latest news in AI when it comes to Google?\""
   ]
  },
  {
   "cell_type": "code",
   "execution_count": 6,
   "metadata": {},
   "outputs": [
    {
     "name": "stdout",
     "output_type": "stream",
     "text": [
      "Created message, ID: msg_c4CRoDogdtgUwzobHIS1bFNN\n"
     ]
    }
   ],
   "source": [
    "# with project_client:\n",
    "thread = project_client.agents.create_thread()\n",
    "agent = project_client.agents.get_agent(agent_id=agent.id)\n",
    "\n",
    "message = project_client.agents.create_message(\n",
    "    thread_id=thread.id,\n",
    "    role=\"user\",\n",
    "    content=user_message,\n",
    ")\n",
    "print(f\"Created message, ID: {message.id}\")"
   ]
  },
  {
   "cell_type": "markdown",
   "metadata": {},
   "source": [
    "**Running Agent with Thread**"
   ]
  },
  {
   "cell_type": "code",
   "execution_count": 7,
   "metadata": {},
   "outputs": [
    {
     "name": "stdout",
     "output_type": "stream",
     "text": [
      "Created run, ID: run_3iBQKjFcTGDUT7XGJAbTODMT\n",
      "Executing tool call: {'id': 'call_GwLsKcuEVik349c3Vpt7bP35', 'type': 'function', 'function': {'name': 'tavily_web_search', 'arguments': '{\\n  \"search_query\": \"latest news in AI\",\\n  \"max_results\": 3\\n}'}}\n",
      "Tool outputs: [{'tool_call_id': 'call_GwLsKcuEVik349c3Vpt7bP35', 'output': '{\"query\": \"latest news in AI\", \"follow_up_questions\": null, \"answer\": null, \"images\": [], \"results\": [{\"title\": \"Artificial Intelligence News -- ScienceDaily\", \"url\": \"https://www.sciencedaily.com/news/computers_math/artificial_intelligence/\", \"content\": \"Mar. 18, 2025 \\\\u2014 Virginia Tech researchers say a true revolution in wireless technologies is only possible through endowing the system with the next generation of artificial intelligence (AI) that can think, imagine, and plan akin to humans. Coffee-Making Robot Breaks New Ground for AI Machines Mar. 18, 2025 \\\\u2014 An AI-powered robot that can prepare cups of coffee in a busy kitchen could usher in the next generation of intelligent machines, a study ... Mar. 6, 2025 \\\\u2014 Researchers have enabled a man who is paralyzed to control a robotic arm through a device that relays signals from his brain to a computer. Feb. 10, 2025 \\\\u2014 Researchers have developed a new AI algorithm, called Torque Clustering, that significantly improves how AI systems independently learn and uncover patterns in data, without human ...\", \"score\": 0.78944516, \"raw_content\": null}, {\"title\": \"AI News & Artificial Intelligence | TechCrunch\", \"url\": \"https://techcrunch.com/category/artificial-intelligence/\", \"content\": \"AI News & Artificial Intelligence | TechCrunch AI News & Artificial Intelligence | TechCrunch AI Site Search Toggle AI AI AI People are using Google\\\\u2019s new AI model to remove watermarks from images AI Nvidia\\\\u2019s AI empire: A look at its top startup investments AI AI AI AI AI AI AI AI AI DeepSeek: Everything you need to know about the AI chatbot app AI AI AI AI AI AI OpenAI calls for US government to codify \\\\u2018fair use\\\\u2019 for AI training AI AI AI Google DeepMind unveils new AI models for controlling robots People are using Google\\\\u2019s new AI model to remove watermarks from images Nvidia\\\\u2019s AI empire: A look at its top startup investments\", \"score\": 0.6854659, \"raw_content\": null}, {\"title\": \"The Latest AI News and Analysis | PCMag\", \"url\": \"https://www.pcmag.com/news/categories/ai\", \"content\": \"The Latest AI News and Analysis | PCMag Best Products The Best Phones for 2025 The Best All-in-One Printers for 2025 The Best Gaming Laptops for 2025 The Best Printers for 2025 See All Best Products Gaming Games All About AI #25BestTechBrands #GetOrganized Best Products Comparisons Reviews How-To News Deals In terms of daily visits, DeepSeek.com has quickly surpassed other chatbots, such as Google\\'s Gemini and Character.AI, according to Similarweb. The AI agent runs on a version of OpenAI\\'s upcoming o3 model, but for now, you need a $200-per-month Pro subscription to try it out. Google: Hackers Tried (and Failed) to Use Gemini AI to Breach Accounts Best Products ### Best Products * * * All About AI Best Products\", \"score\": 0.6685563, \"raw_content\": null}], \"response_time\": 1.54}'}]\n",
      "Current run status: RunStatus.REQUIRES_ACTION\n",
      "Current run status: RunStatus.IN_PROGRESS\n",
      "Current run status: RunStatus.IN_PROGRESS\n",
      "Current run status: RunStatus.COMPLETED\n",
      "Run completed with status: RunStatus.COMPLETED\n"
     ]
    }
   ],
   "source": [
    "import time\n",
    "from azure.ai.projects.models import RequiredFunctionToolCall, SubmitToolOutputsAction, ToolOutput\n",
    "\n",
    "run = project_client.agents.create_run(thread_id=thread.id, agent_id=agent.id)\n",
    "print(f\"Created run, ID: {run.id}\")\n",
    "\n",
    "while run.status in [\"queued\", \"in_progress\", \"requires_action\"]:\n",
    "    time.sleep(1)\n",
    "    run = project_client.agents.get_run(thread_id=thread.id, run_id=run.id)\n",
    "\n",
    "    if run.status == \"requires_action\" and isinstance(run.required_action, SubmitToolOutputsAction):\n",
    "        # When the status is requires_action, your code is responsible for calling the function tools.\n",
    "        tool_calls = run.required_action.submit_tool_outputs.tool_calls\n",
    "        if not tool_calls: # If no tool calls are provided, cancel the run.\n",
    "            print(\"No tool calls provided - cancelling run\")\n",
    "            project_client.agents.cancel_run(thread_id=thread.id, run_id=run.id)\n",
    "            break\n",
    "\n",
    "        tool_outputs = []\n",
    "        for tool_call in tool_calls:\n",
    "            if isinstance(tool_call, RequiredFunctionToolCall):\n",
    "                try:\n",
    "                    print(f\"Executing tool call: {tool_call}\")\n",
    "                    output = functions.execute(tool_call)\n",
    "                    # If the output is not a string, convert it to JSON string\n",
    "                    if not isinstance(output, str):\n",
    "                        output = json.dumps(output)\n",
    "                    tool_outputs.append(\n",
    "                        ToolOutput(\n",
    "                            tool_call_id=tool_call.id,\n",
    "                            output=output,\n",
    "                        )\n",
    "                    )\n",
    "                except Exception as e:\n",
    "                    print(f\"Error executing tool_call {tool_call.id}: {e}\")\n",
    "\n",
    "        print(f\"Tool outputs: {tool_outputs}\")\n",
    "        if tool_outputs:\n",
    "            project_client.agents.submit_tool_outputs_to_run(\n",
    "                thread_id=thread.id, run_id=run.id, tool_outputs=tool_outputs\n",
    "            )\n",
    "    print(f\"Current run status: {run.status}\")\n",
    "print(f\"Run completed with status: {run.status}\")"
   ]
  },
  {
   "cell_type": "code",
   "execution_count": 8,
   "metadata": {},
   "outputs": [
    {
     "name": "stdout",
     "output_type": "stream",
     "text": [
      "Message (MessageRole.USER): Do a web search for latest news in AI\n",
      "Message (MessageRole.AGENT): Here are the latest news articles in AI:\n",
      "\n",
      "1. **[Artificial Intelligence News -- ScienceDaily](https://www.sciencedaily.com/news/computers_math/artificial_intelligence/)**:\n",
      "   - Virginia Tech researchers say a true revolution in wireless technologies is only possible through endowing the system with the next generation of AI that can think, imagine, and plan akin to humans.\n",
      "   - Coffee-Making Robot Breaks New Ground for AI Machines.\n",
      "   - Researchers have enabled a man who is paralyzed to control a robotic arm through a device that relays signals from his brain to a computer.\n",
      "   - Development of a new AI algorithm, called Torque Clustering, that significantly improves how AI systems independently learn and uncover patterns in data, without human intervention.\n",
      "\n",
      "2. **[AI News & Artificial Intelligence | TechCrunch](https://techcrunch.com/category/artificial-intelligence/)**:\n",
      "   - People are using Google's new AI model to remove watermarks from images.\n",
      "   - Nvidia's AI empire: A look at its top startup investments.\n",
      "   - OpenAI calls for US government to codify ‘fair use’ for AI training.\n",
      "   - Google DeepMind unveils new AI models for controlling robots.\n",
      "\n",
      "3. **[The Latest AI News and Analysis | PCMag](https://www.pcmag.com/news/categories/ai)**:\n",
      "   - Insights on the popularity of AI chatbots like Google's Gemini and Character.AI.\n",
      "   - Information on DeepSeek, an AI agent running on a version of OpenAI's upcoming o3 model, requiring a $200-per-month Pro subscription.\n",
      "   - Google's Gemini AI was targeted by hackers who tried (and failed) to breach accounts.\n"
     ]
    }
   ],
   "source": [
    "# Fetch and log all messages\n",
    "messages = project_client.agents.list_messages(thread_id=thread.id)\n",
    "\n",
    "for m in reversed(messages.data):\n",
    "    if m.content[0].text.annotations:\n",
    "        print(f\"Message ({m.role}): {m.content[0].text.value}\")\n",
    "        for ref in m.content[0].text.annotations:\n",
    "            print(f\"Citations: {ref.url_citation.title} - {ref.url_citation.url}\")\n",
    "    else:\n",
    "        print(f\"Message ({m.role}): {m.content[0].text.value}\")"
   ]
  },
  {
   "cell_type": "markdown",
   "metadata": {},
   "source": [
    "**Delete Agent & Thread**"
   ]
  },
  {
   "cell_type": "code",
   "execution_count": 9,
   "metadata": {},
   "outputs": [
    {
     "name": "stdout",
     "output_type": "stream",
     "text": [
      "Deleted agent\n",
      "thread: thread_MbuJarQEWKvRHUCOQiGwo9PP deleted\n"
     ]
    }
   ],
   "source": [
    "# Delete the agent when done\n",
    "project_client.agents.delete_agent(agent.id)\n",
    "print(\"Deleted agent\")\n",
    "\n",
    "# Delete Thread when done\n",
    "project_client.agents.delete_thread(thread_id=thread.id)\n",
    "print(f\"thread: {thread.id} deleted\")"
   ]
  },
  {
   "cell_type": "code",
   "execution_count": null,
   "metadata": {},
   "outputs": [],
   "source": []
  }
 ],
 "metadata": {
  "kernelspec": {
   "display_name": "ericsson-demo",
   "language": "python",
   "name": "python3"
  },
  "language_info": {
   "codemirror_mode": {
    "name": "ipython",
    "version": 3
   },
   "file_extension": ".py",
   "mimetype": "text/x-python",
   "name": "python",
   "nbconvert_exporter": "python",
   "pygments_lexer": "ipython3",
   "version": "3.10.0"
  }
 },
 "nbformat": 4,
 "nbformat_minor": 2
}
