{
 "cells": [
  {
   "cell_type": "markdown",
   "metadata": {},
   "source": [
    "# **Azure AI Agents Service**\n",
    "\n",
    "## Overview\n",
    "Azure AI Agents Service enables you to create and deploy intelligent agents that understand natural language, perform actions, and help users accomplish tasks. These agents integrate with your data sources and services through custom functions, providing powerful conversational AI capabilities.\n",
    "\n",
    "## Key Concepts\n",
    "\n",
    "### 1. Agent Functions\n",
    "Functions extend your agent's abilities by letting it:\n",
    "- Search the web for information (demonstrated with Tavily search integration)\n",
    "- Access external data sources (like weather information)\n",
    "- Execute custom business logic\n",
    "- Interact with your organization's systems and APIs\n",
    "\n",
    "### 2. Agent Creation and Configuration\n",
    "When creating your agent:\n",
    "- Select an AI model (like GPT-4o)\n",
    "- Define custom instructions to shape personality and behavior\n",
    "- Register function tools that the agent can use\n",
    "- Configure authentication and security settings\n",
    "\n",
    "### 3. Threads and Messages\n",
    "Conversations with agents happen within threads:\n",
    "- Create a thread to establish a conversation context\n",
    "- Add user messages to the thread\n",
    "- Run the agent to process messages and generate responses\n",
    "\n",
    "### 4. Tool Execution Flow\n",
    "When an agent needs information:\n",
    "1. The agent identifies when to use a tool\n",
    "2. Your application receives the tool call request\n",
    "3. Your code executes the appropriate function\n",
    "4. You submit results back to the agent\n",
    "5. The agent incorporates the results into its response\n",
    "\n",
    "## Resources\n",
    "* [Azure AI Agents documentation](https://learn.microsoft.com/azure/ai-services/azure-ai-agent)\n",
    "* [AI Studio](https://ai.azure.com)"
   ]
  },
  {
   "cell_type": "markdown",
   "metadata": {},
   "source": [
    "**Imports**"
   ]
  },
  {
   "cell_type": "code",
   "execution_count": 1,
   "metadata": {},
   "outputs": [
    {
     "data": {
      "text/plain": [
       "True"
      ]
     },
     "execution_count": 1,
     "metadata": {},
     "output_type": "execute_result"
    }
   ],
   "source": [
    "import os\n",
    "import dotenv\n",
    "dotenv.load_dotenv(\".env\")"
   ]
  },
  {
   "cell_type": "markdown",
   "metadata": {},
   "source": [
    "**Create Client**"
   ]
  },
  {
   "cell_type": "code",
   "execution_count": 2,
   "metadata": {},
   "outputs": [],
   "source": [
    "from azure.ai.projects import AIProjectClient\n",
    "from azure.identity import DefaultAzureCredential\n",
    "\n",
    "# Create an Azure AI Client from a connection string, copied from your Azure AI Foundry project.\n",
    "# It should be in the format \"<HostName>;<AzureSubscriptionId>;<ResourceGroup>;<HubName>\"\n",
    "# Customers need to login to Azure subscription via Azure CLI and set the environment variables\n",
    "\n",
    "project_client = AIProjectClient.from_connection_string(\n",
    "    credential=DefaultAzureCredential(),\n",
    "    conn_str=os.environ[\"PROJECT_CONNECTION_STRING\"],\n",
    ")"
   ]
  },
  {
   "cell_type": "markdown",
   "metadata": {},
   "source": [
    "**Action Tools**"
   ]
  },
  {
   "cell_type": "code",
   "execution_count": 3,
   "metadata": {},
   "outputs": [],
   "source": [
    "import json\n",
    "from typing import Any, Callable, Set, Dict, List, Optional\n",
    "from tavily import TavilyClient\n",
    "\n",
    "def tavily_web_search(search_query: str, max_results: int = 3) -> List[Dict[str, Any]]:\n",
    "    \"\"\"\n",
    "    Performs a web search using Tavily and returns the results.\n",
    "\n",
    "    :param search_query (str): The query string to search for.\n",
    "    :param max_results (int): Maximum number of results to return. Defaults to 3.\n",
    "    :return: List of search result dictionaries.\n",
    "    :rtype: List[Dict[str, Any]]\n",
    "    \"\"\"\n",
    "    try:\n",
    "        tavily_client = TavilyClient(api_key=os.getenv(\"TAVILY_API_KEY\"))\n",
    "        response = tavily_client.search(search_query, max_results=max_results)\n",
    "\n",
    "        if isinstance(response, dict):\n",
    "            return response\n",
    "        else:\n",
    "            return json.loads(response)\n",
    "    except Exception as e:\n",
    "        return {\"error\": str(e), \"results\": []}\n",
    "    \n",
    "def fetch_weather(location: str) -> str:\n",
    "    \"\"\"\n",
    "    Fetches the weather information for the specified location.\n",
    "\n",
    "    :param location (str): The location to fetch weather for.\n",
    "    :return: Weather information as a JSON string.\n",
    "    :rtype: str\n",
    "    \"\"\"\n",
    "    # In a real-world scenario, you'd integrate with a weather API.\n",
    "    # Here, we'll mock the response.\n",
    "    mock_weather_data = {\"New York\": \"Sunny, 25°C\", \"London\": \"Cloudy, 18°C\", \"Tokyo\": \"Rainy, 22°C\"}\n",
    "    weather = mock_weather_data.get(location, \"Weather data not available for this location.\")\n",
    "    weather_json = json.dumps({\"weather\": weather})\n",
    "    return weather_json\n",
    "\n",
    "\n",
    "# Statically defined user functions for fast reference\n",
    "agent_functions: Set[Callable[..., Any]] = {\n",
    "    tavily_web_search,\n",
    "    fetch_weather\n",
    "}"
   ]
  },
  {
   "cell_type": "markdown",
   "metadata": {},
   "source": [
    "**Create Agent**"
   ]
  },
  {
   "cell_type": "code",
   "execution_count": 4,
   "metadata": {},
   "outputs": [
    {
     "name": "stdout",
     "output_type": "stream",
     "text": [
      "Created agent, ID: asst_rpooGjg1XYvHyuGQ5tQGzvCW\n"
     ]
    }
   ],
   "source": [
    "from azure.ai.projects.models import FunctionTool\n",
    "\n",
    "functions = FunctionTool(functions=agent_functions)\n",
    "\n",
    "agent = project_client.agents.create_agent(\n",
    "    name=\"my-action-tool-agent\",\n",
    "    model=os.getenv(\"chatModel\"),\n",
    "    instructions=\"You are a helpful assistant\",\n",
    "    tools=functions.definitions,\n",
    ")\n",
    "\n",
    "print(f\"Created agent, ID: {agent.id}\")"
   ]
  },
  {
   "cell_type": "markdown",
   "metadata": {},
   "source": [
    "**Create Thread & Adding Message**"
   ]
  },
  {
   "cell_type": "code",
   "execution_count": 5,
   "metadata": {},
   "outputs": [],
   "source": [
    "# user_message = \"hi, what's the weather in New York?\"\n",
    "user_message = \"Do a web search for latest news in AI\"\n",
    "# user_message = \"What is the latest news in AI when it comes to Google?\""
   ]
  },
  {
   "cell_type": "code",
   "execution_count": 6,
   "metadata": {},
   "outputs": [
    {
     "name": "stdout",
     "output_type": "stream",
     "text": [
      "Created message, ID: msg_c4CRoDogdtgUwzobHIS1bFNN\n"
     ]
    }
   ],
   "source": [
    "# with project_client:\n",
    "thread = project_client.agents.create_thread()\n",
    "agent = project_client.agents.get_agent(agent_id=agent.id)\n",
    "\n",
    "message = project_client.agents.create_message(\n",
    "    thread_id=thread.id,\n",
    "    role=\"user\",\n",
    "    content=user_message,\n",
    ")\n",
    "print(f\"Created message, ID: {message.id}\")"
   ]
  },
  {
   "cell_type": "markdown",
   "metadata": {},
   "source": [
    "**Running Agent with Thread**"
   ]
  },
  {
   "cell_type": "code",
   "execution_count": 7,
   "metadata": {},
   "outputs": [
    {
     "name": "stdout",
     "output_type": "stream",
     "text": [
      "Created run, ID: run_3iBQKjFcTGDUT7XGJAbTODMT\n",
      "Executing tool call: {'id': 'call_GwLsKcuEVik349c3Vpt7bP35', 'type': 'function', 'function': {'name': 'tavily_web_search', 'arguments': '{\\n  \"search_query\": \"latest news in AI\",\\n  \"max_results\": 3\\n}'}}\n",
      "Tool outputs: [{'tool_call_id': 'call_GwLsKcuEVik349c3Vpt7bP35', 'output': '{\"query\": \"latest news in AI\", \"follow_up_questions\": null, \"answer\": null, \"images\": [], \"results\": [{\"title\": \"Artificial Intelligence News -- ScienceDaily\", \"url\": \"https://www.sciencedaily.com/news/computers_math/artificial_intelligence/\", \"content\": \"Mar. 18, 2025 \\\\u2014 Virginia Tech researchers say a true revolution in wireless technologies is only possible through endowing the system with the next generation of artificial intelligence (AI) that can think, imagine, and plan akin to humans. Coffee-Making Robot Breaks New Ground for AI Machines Mar. 18, 2025 \\\\u2014 An AI-powered robot that can prepare cups of coffee in a busy kitchen could usher in the next generation of intelligent machines, a study ... Mar. 6, 2025 \\\\u2014 Researchers have enabled a man who is paralyzed to control a robotic arm through a device that relays signals from his brain to a computer. Feb. 10, 2025 \\\\u2014 Researchers have developed a new AI algorithm, called Torque Clustering, that significantly improves how AI systems independently learn and uncover patterns in data, without human ...\", \"score\": 0.78944516, \"raw_content\": null}, {\"title\": \"AI News & Artificial Intelligence | TechCrunch\", \"url\": \"https://techcrunch.com/category/artificial-intelligence/\", \"content\": \"AI News & Artificial Intelligence | TechCrunch AI News & Artificial Intelligence | TechCrunch AI Site Search Toggle AI AI AI People are using Google\\\\u2019s new AI model to remove watermarks from images AI Nvidia\\\\u2019s AI empire: A look at its top startup investments AI AI AI AI AI AI AI AI AI DeepSeek: Everything you need to know about the AI chatbot app AI AI AI AI AI AI OpenAI calls for US government to codify \\\\u2018fair use\\\\u2019 for AI training AI AI AI Google DeepMind unveils new AI models for controlling robots People are using Google\\\\u2019s new AI model to remove watermarks from images Nvidia\\\\u2019s AI empire: A look at its top startup investments\", \"score\": 0.6854659, \"raw_content\": null}, {\"title\": \"The Latest AI News and Analysis | PCMag\", \"url\": \"https://www.pcmag.com/news/categories/ai\", \"content\": \"The Latest AI News and Analysis | PCMag Best Products The Best Phones for 2025 The Best All-in-One Printers for 2025 The Best Gaming Laptops for 2025 The Best Printers for 2025 See All Best Products Gaming Games All About AI #25BestTechBrands #GetOrganized Best Products Comparisons Reviews How-To News Deals In terms of daily visits, DeepSeek.com has quickly surpassed other chatbots, such as Google\\'s Gemini and Character.AI, according to Similarweb. The AI agent runs on a version of OpenAI\\'s upcoming o3 model, but for now, you need a $200-per-month Pro subscription to try it out. Google: Hackers Tried (and Failed) to Use Gemini AI to Breach Accounts Best Products ### Best Products * * * All About AI Best Products\", \"score\": 0.6685563, \"raw_content\": null}], \"response_time\": 1.54}'}]\n",
      "Current run status: RunStatus.REQUIRES_ACTION\n",
      "Current run status: RunStatus.IN_PROGRESS\n",
      "Current run status: RunStatus.IN_PROGRESS\n",
      "Current run status: RunStatus.COMPLETED\n",
      "Run completed with status: RunStatus.COMPLETED\n"
     ]
    }
   ],
   "source": [
    "import time\n",
    "from azure.ai.projects.models import RequiredFunctionToolCall, SubmitToolOutputsAction, ToolOutput\n",
    "\n",
    "run = project_client.agents.create_run(thread_id=thread.id, agent_id=agent.id)\n",
    "print(f\"Created run, ID: {run.id}\")\n",
    "\n",
    "while run.status in [\"queued\", \"in_progress\", \"requires_action\"]:\n",
    "    time.sleep(1)\n",
    "    run = project_client.agents.get_run(thread_id=thread.id, run_id=run.id)\n",
    "\n",
    "    if run.status == \"requires_action\" and isinstance(run.required_action, SubmitToolOutputsAction):\n",
    "        # When the status is requires_action, your code is responsible for calling the function tools.\n",
    "        tool_calls = run.required_action.submit_tool_outputs.tool_calls\n",
    "        if not tool_calls: # If no tool calls are provided, cancel the run.\n",
    "            print(\"No tool calls provided - cancelling run\")\n",
    "            project_client.agents.cancel_run(thread_id=thread.id, run_id=run.id)\n",
    "            break\n",
    "\n",
    "        tool_outputs = []\n",
    "        for tool_call in tool_calls:\n",
    "            if isinstance(tool_call, RequiredFunctionToolCall):\n",
    "                try:\n",
    "                    print(f\"Executing tool call: {tool_call}\")\n",
    "                    output = functions.execute(tool_call)\n",
    "                    # If the output is not a string, convert it to JSON string\n",
    "                    if not isinstance(output, str):\n",
    "                        output = json.dumps(output)\n",
    "                    tool_outputs.append(\n",
    "                        ToolOutput(\n",
    "                            tool_call_id=tool_call.id,\n",
    "                            output=output,\n",
    "                        )\n",
    "                    )\n",
    "                except Exception as e:\n",
    "                    print(f\"Error executing tool_call {tool_call.id}: {e}\")\n",
    "\n",
    "        print(f\"Tool outputs: {tool_outputs}\")\n",
    "        if tool_outputs:\n",
    "            project_client.agents.submit_tool_outputs_to_run(\n",
    "                thread_id=thread.id, run_id=run.id, tool_outputs=tool_outputs\n",
    "            )\n",
    "    print(f\"Current run status: {run.status}\")\n",
    "print(f\"Run completed with status: {run.status}\")"
   ]
  },
  {
   "cell_type": "code",
   "execution_count": 8,
   "metadata": {},
   "outputs": [
    {
     "name": "stdout",
     "output_type": "stream",
     "text": [
      "Message (MessageRole.USER): Do a web search for latest news in AI\n",
      "Message (MessageRole.AGENT): Here are the latest news articles in AI:\n",
      "\n",
      "1. **[Artificial Intelligence News -- ScienceDaily](https://www.sciencedaily.com/news/computers_math/artificial_intelligence/)**:\n",
      "   - Virginia Tech researchers say a true revolution in wireless technologies is only possible through endowing the system with the next generation of AI that can think, imagine, and plan akin to humans.\n",
      "   - Coffee-Making Robot Breaks New Ground for AI Machines.\n",
      "   - Researchers have enabled a man who is paralyzed to control a robotic arm through a device that relays signals from his brain to a computer.\n",
      "   - Development of a new AI algorithm, called Torque Clustering, that significantly improves how AI systems independently learn and uncover patterns in data, without human intervention.\n",
      "\n",
      "2. **[AI News & Artificial Intelligence | TechCrunch](https://techcrunch.com/category/artificial-intelligence/)**:\n",
      "   - People are using Google's new AI model to remove watermarks from images.\n",
      "   - Nvidia's AI empire: A look at its top startup investments.\n",
      "   - OpenAI calls for US government to codify ‘fair use’ for AI training.\n",
      "   - Google DeepMind unveils new AI models for controlling robots.\n",
      "\n",
      "3. **[The Latest AI News and Analysis | PCMag](https://www.pcmag.com/news/categories/ai)**:\n",
      "   - Insights on the popularity of AI chatbots like Google's Gemini and Character.AI.\n",
      "   - Information on DeepSeek, an AI agent running on a version of OpenAI's upcoming o3 model, requiring a $200-per-month Pro subscription.\n",
      "   - Google's Gemini AI was targeted by hackers who tried (and failed) to breach accounts.\n"
     ]
    }
   ],
   "source": [
    "# Fetch and log all messages\n",
    "messages = project_client.agents.list_messages(thread_id=thread.id)\n",
    "\n",
    "for m in reversed(messages.data):\n",
    "    if m.content[0].text.annotations:\n",
    "        print(f\"Message ({m.role}): {m.content[0].text.value}\")\n",
    "        for ref in m.content[0].text.annotations:\n",
    "            print(f\"Citations: {ref.url_citation.title} - {ref.url_citation.url}\")\n",
    "    else:\n",
    "        print(f\"Message ({m.role}): {m.content[0].text.value}\")"
   ]
  },
  {
   "cell_type": "markdown",
   "metadata": {},
   "source": [
    "**Delete Agent & Thread**"
   ]
  },
  {
   "cell_type": "code",
   "execution_count": 9,
   "metadata": {},
   "outputs": [
    {
     "name": "stdout",
     "output_type": "stream",
     "text": [
      "Deleted agent\n",
      "thread: thread_MbuJarQEWKvRHUCOQiGwo9PP deleted\n"
     ]
    }
   ],
   "source": [
    "# Delete the agent when done\n",
    "project_client.agents.delete_agent(agent.id)\n",
    "print(\"Deleted agent\")\n",
    "\n",
    "# Delete Thread when done\n",
    "project_client.agents.delete_thread(thread_id=thread.id)\n",
    "print(f\"thread: {thread.id} deleted\")"
   ]
  },
  {
   "cell_type": "code",
   "execution_count": null,
   "metadata": {},
   "outputs": [],
   "source": []
  }
 ],
 "metadata": {
  "kernelspec": {
   "display_name": "azure-ai-agents",
   "language": "python",
   "name": "python3"
  },
  "language_info": {
   "codemirror_mode": {
    "name": "ipython",
    "version": 3
   },
   "file_extension": ".py",
   "mimetype": "text/x-python",
   "name": "python",
   "nbconvert_exporter": "python",
   "pygments_lexer": "ipython3",
   "version": "3.11.0"
  }
 },
 "nbformat": 4,
 "nbformat_minor": 2
}
