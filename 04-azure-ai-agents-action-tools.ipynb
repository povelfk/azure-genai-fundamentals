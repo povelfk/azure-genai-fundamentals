{
 "cells": [
  {
   "cell_type": "markdown",
   "metadata": {},
   "source": [
    "# **Azure AI Agents with Action Tools**\n",
    "\n",
    "## Overview\n",
    "This notebook demonstrates how to create and use AI agents with action tools in Azure AI Foundry. You'll learn how to enhance an AI agent's capabilities by integrating custom functions that can perform actions on behalf of the user, allowing the agent to interact with external systems and APIs.\n",
    "\n",
    "## Learning Objectives\n",
    "- Set up an Azure AI agent with custom function tools\n",
    "- Create a weather assistant that can fetch weather information\n",
    "- Define and implement custom Python functions as agent tools\n",
    "- Create and manage conversation threads\n",
    "- Process tool calls and handle their execution flow\n",
    "- Submit tool outputs back to the agent\n",
    "- Monitor run status and handle different action requirements\n",
    "\n",
    "## Prerequisites\n",
    "- An Azure account with access to Azure AI Foundry\n",
    "- Appropriate environment variables in a `.env` file:\n",
    "  - `PROJECT_CONNECTION_STRING`: Connection string for your Azure AI Foundry project\n",
    "  - `chatModel`: The model to use for the agent (e.g., GPT-4o)\n",
    "\n",
    "## Workflow\n",
    "This notebook walks through the complete lifecycle of an AI agent with action tools:\n",
    "1. Setting up the environment and client\n",
    "2. Defining custom functions that the agent can call\n",
    "3. Configuring system instructions for the agent\n",
    "4. Creating the agent with the function tools\n",
    "5. Managing conversation threads and messages\n",
    "6. Running the agent and handling tool call execution\n",
    "7. Processing responses that incorporate tool outputs\n",
    "8. Cleaning up resources when finished\n",
    "\n",
    "Follow along step by step to create your own action-enabled AI agent!"
   ]
  },
  {
   "cell_type": "markdown",
   "metadata": {},
   "source": [
    "**Imports**"
   ]
  },
  {
   "cell_type": "code",
   "execution_count": 1,
   "metadata": {},
   "outputs": [
    {
     "data": {
      "text/plain": [
       "True"
      ]
     },
     "execution_count": 1,
     "metadata": {},
     "output_type": "execute_result"
    }
   ],
   "source": [
    "import os\n",
    "import dotenv\n",
    "dotenv.load_dotenv(\".env\")"
   ]
  },
  {
   "cell_type": "markdown",
   "metadata": {},
   "source": [
    "**Create Client**"
   ]
  },
  {
   "cell_type": "code",
   "execution_count": 2,
   "metadata": {},
   "outputs": [],
   "source": [
    "from azure.ai.projects import AIProjectClient\n",
    "from azure.identity import DefaultAzureCredential\n",
    "\n",
    "# Create an Azure AI Client from a connection string, copied from your Azure AI Foundry project.\n",
    "# It should be in the format \"<HostName>;<AzureSubscriptionId>;<ResourceGroup>;<HubName>\"\n",
    "# Customers need to login to Azure subscription via Azure CLI and set the environment variables\n",
    "\n",
    "project_client = AIProjectClient.from_connection_string(\n",
    "    credential=DefaultAzureCredential(),\n",
    "    conn_str=os.environ[\"PROJECT_CONNECTION_STRING\"],\n",
    ")"
   ]
  },
  {
   "cell_type": "markdown",
   "metadata": {},
   "source": [
    "**Action Tools**"
   ]
  },
  {
   "cell_type": "code",
   "execution_count": 3,
   "metadata": {},
   "outputs": [],
   "source": [
    "import json\n",
    "from typing import Any, Callable, Set, Optional\n",
    "    \n",
    "def fetch_weather(location: str) -> str:\n",
    "    \"\"\"\n",
    "    Fetches the weather information for the specified location.\n",
    "\n",
    "    :param location (str): The location to fetch weather for.\n",
    "    :return: Weather information as a JSON string.\n",
    "    :rtype: str\n",
    "    \"\"\"\n",
    "    # Mock API response.\n",
    "    mock_weather_data = {\n",
    "        \"New York\": \"Sunny, 25°C\",\n",
    "        \"London\": \"Cloudy, 18°C\",\n",
    "        \"Tokyo\": \"Rainy, 22°C\",\n",
    "        \"Stockholm\": \"Snowy, -5°C\",\n",
    "    }\n",
    "    \n",
    "    weather = mock_weather_data.get(location, \"Weather data not available for this location.\")\n",
    "    weather_json = json.dumps({\"weather\": weather})\n",
    "    return weather_json\n",
    "\n",
    "def check_network_status(location: str, service_type: Optional[str] = None) -> str:\n",
    "    \"\"\"\n",
    "    Checks the status of telecommunications network in a specified location.\n",
    "    \n",
    "    :param location (str): The location to check network status for.\n",
    "    :param service_type (str, optional): Type of service to check (e.g., \"4G\", \"5G\", \"VoLTE\").\n",
    "                                         If not specified, returns status for all services.\n",
    "    :return: Network status information as a JSON string.\n",
    "    :rtype: str\n",
    "    \"\"\"\n",
    "    # Mock network status data\n",
    "    network_data = {\n",
    "        \"Stockholm\": {\n",
    "            \"5G\": \"Operational - 98.7% coverage\",\n",
    "            \"4G\": \"Operational - 99.9% coverage\",\n",
    "            \"VoLTE\": \"Operational\"\n",
    "        },\n",
    "        \"Gothenburg\": {\n",
    "            \"5G\": \"Partial outage - 85.3% coverage\",\n",
    "            \"4G\": \"Operational - 99.5% coverage\",\n",
    "            \"VoLTE\": \"Operational\"\n",
    "        },\n",
    "        \"New York\": {\n",
    "            \"5G\": \"Operational - 92.1% coverage\",\n",
    "            \"4G\": \"Operational - 99.7% coverage\",\n",
    "            \"VoLTE\": \"Maintenance in progress\"\n",
    "        },\n",
    "        \"London\": {\n",
    "            \"5G\": \"Operational - 90.5% coverage\",\n",
    "            \"4G\": \"Operational - 99.8% coverage\",\n",
    "            \"VoLTE\": \"Operational\"\n",
    "        }\n",
    "    }\n",
    "    \n",
    "    # Check if the location exists in our mock data\n",
    "    if location not in network_data:\n",
    "        return json.dumps({\"error\": \"Location not found in network database\"})\n",
    "    \n",
    "    # Return data for the specific service type if provided\n",
    "    if service_type:\n",
    "        if service_type in network_data[location]:\n",
    "            return json.dumps({\n",
    "                \"location\": location,\n",
    "                \"service\": service_type,\n",
    "                \"status\": network_data[location][service_type],\n",
    "                \"timestamp\": \"2025-04-04T10:30:00Z\"  # Using current date from context\n",
    "            })\n",
    "        else:\n",
    "            return json.dumps({\"error\": f\"Service type {service_type} not available in {location}\"})\n",
    "    \n",
    "    # Return all service data for the location\n",
    "    return json.dumps({\n",
    "        \"location\": location,\n",
    "        \"services\": network_data[location],\n",
    "        \"timestamp\": \"2025-04-04T10:30:00Z\"  # Using current date from context\n",
    "    })\n",
    "\n",
    "\n",
    "# Statically defined user functions for fast reference\n",
    "agent_functions: Set[Callable[..., Any]] = {\n",
    "    fetch_weather,\n",
    "    check_network_status\n",
    "}\n"
   ]
  },
  {
   "cell_type": "markdown",
   "metadata": {},
   "source": [
    "**System message**"
   ]
  },
  {
   "cell_type": "code",
   "execution_count": 4,
   "metadata": {},
   "outputs": [],
   "source": [
    "system_message=(\n",
    "    \"You are an assistant with access to both weather information and telecommunications network status data. \"\n",
    "    \"You can help with the following:\\n\"\n",
    "    \"1. Checking current weather conditions in various locations\\n\"\n",
    "    \"2. Providing network status information in different regions, including details about 4G, 5G, and VoLTE services\\n\\n\"\n",
    "    \"For network status, you can check overall network conditions in a location or get specific information about \"\n",
    "    \"a particular service like 5G coverage. Feel free to ask for clarification if the user's request is ambiguous.\"\n",
    ")"
   ]
  },
  {
   "cell_type": "markdown",
   "metadata": {},
   "source": [
    "**Create Agent**"
   ]
  },
  {
   "cell_type": "code",
   "execution_count": 5,
   "metadata": {},
   "outputs": [
    {
     "name": "stdout",
     "output_type": "stream",
     "text": [
      "Created agent, ID: asst_M40iRhAEXRxEi8sfZNL65H7m\n"
     ]
    }
   ],
   "source": [
    "from azure.ai.projects.models import FunctionTool\n",
    "\n",
    "functions = FunctionTool(functions=agent_functions)\n",
    "\n",
    "agent = project_client.agents.create_agent(\n",
    "    name=\"my-action-tool-agent\",\n",
    "    model=os.getenv(\"chatModel\"),\n",
    "    instructions=system_message,\n",
    "    tools=functions.definitions,\n",
    ")\n",
    "\n",
    "print(f\"Created agent, ID: {agent.id}\")"
   ]
  },
  {
   "cell_type": "markdown",
   "metadata": {},
   "source": [
    "**Create Thread**"
   ]
  },
  {
   "cell_type": "code",
   "execution_count": 6,
   "metadata": {},
   "outputs": [],
   "source": [
    "thread = project_client.agents.create_thread()\n",
    "agent = project_client.agents.get_agent(agent_id=agent.id)"
   ]
  },
  {
   "cell_type": "markdown",
   "metadata": {},
   "source": [
    "**Adding Message**"
   ]
  },
  {
   "cell_type": "code",
   "execution_count": 7,
   "metadata": {},
   "outputs": [
    {
     "name": "stdout",
     "output_type": "stream",
     "text": [
      "Created message, ID: msg_BddcNZItT4CvWZCwRIscwBi5\n"
     ]
    }
   ],
   "source": [
    "message = project_client.agents.create_message(\n",
    "    thread_id=thread.id,\n",
    "    role=\"user\",\n",
    "    content=\"How's the 5G network in Stockholm?\",\n",
    ")\n",
    "print(f\"Created message, ID: {message.id}\")"
   ]
  },
  {
   "cell_type": "markdown",
   "metadata": {},
   "source": [
    "**Running Agent with Thread**"
   ]
  },
  {
   "cell_type": "code",
   "execution_count": 8,
   "metadata": {},
   "outputs": [
    {
     "name": "stdout",
     "output_type": "stream",
     "text": [
      "Created run, ID: run_aveJtZdbU8uPyTsliK5cWEAb\n",
      "Current run status: in_progress\n",
      "Current run status: in_progress\n",
      "Current run status: in_progress\n",
      "Executing tool call: {'id': 'call_Tx2nRAt55hGplg9zrZ8X9Wq8', 'type': 'function', 'function': {'name': 'check_network_status', 'arguments': '{\"location\":\"Stockholm\",\"service_type\":\"5G\"}'}}\n",
      "Tool outputs: [{'tool_call_id': 'call_Tx2nRAt55hGplg9zrZ8X9Wq8', 'output': '{\"location\": \"Stockholm\", \"service\": \"5G\", \"status\": \"Operational - 98.7% coverage\", \"timestamp\": \"2025-04-04T10:30:00Z\"}'}]\n",
      "Current run status: requires_action\n",
      "Current run status: completed\n",
      "Run completed with status: completed\n"
     ]
    }
   ],
   "source": [
    "import time\n",
    "from azure.ai.projects.models import RequiredFunctionToolCall, SubmitToolOutputsAction, ToolOutput\n",
    "\n",
    "run = project_client.agents.create_run(thread_id=thread.id, agent_id=agent.id)\n",
    "print(f\"Created run, ID: {run.id}\")\n",
    "\n",
    "while run.status in [\"queued\", \"in_progress\", \"requires_action\"]:\n",
    "    time.sleep(1)\n",
    "    run = project_client.agents.get_run(thread_id=thread.id, run_id=run.id)\n",
    "\n",
    "    if run.status == \"requires_action\" and isinstance(run.required_action, SubmitToolOutputsAction):\n",
    "        # When the status is requires_action, your code is responsible for calling the function tools.\n",
    "        tool_calls = run.required_action.submit_tool_outputs.tool_calls\n",
    "        if not tool_calls: # If no tool calls are provided, cancel the run.\n",
    "            print(\"No tool calls provided - cancelling run\")\n",
    "            project_client.agents.cancel_run(thread_id=thread.id, run_id=run.id)\n",
    "            break\n",
    "\n",
    "        tool_outputs = []\n",
    "        for tool_call in tool_calls:\n",
    "            if isinstance(tool_call, RequiredFunctionToolCall):\n",
    "                try:\n",
    "                    print(f\"Executing tool call: {tool_call}\")\n",
    "                    output = functions.execute(tool_call)\n",
    "                    # If the output is not a string, convert it to JSON string\n",
    "                    if not isinstance(output, str):\n",
    "                        output = json.dumps(output)\n",
    "                    tool_outputs.append(\n",
    "                        ToolOutput(\n",
    "                            tool_call_id=tool_call.id,\n",
    "                            output=output,\n",
    "                        )\n",
    "                    )\n",
    "                except Exception as e:\n",
    "                    print(f\"Error executing tool_call {tool_call.id}: {e}\")\n",
    "\n",
    "        print(f\"Tool outputs: {tool_outputs}\")\n",
    "        if tool_outputs:\n",
    "            project_client.agents.submit_tool_outputs_to_run(\n",
    "                thread_id=thread.id, run_id=run.id, tool_outputs=tool_outputs\n",
    "            )\n",
    "    print(f\"Current run status: {run.status}\")\n",
    "print(f\"Run completed with status: {run.status}\")"
   ]
  },
  {
   "cell_type": "code",
   "execution_count": 9,
   "metadata": {},
   "outputs": [
    {
     "name": "stdout",
     "output_type": "stream",
     "text": [
      "\n",
      "👤 USER\n",
      "------------------------------------------------------------\n"
     ]
    },
    {
     "data": {
      "text/html": [
       "<pre style=\"white-space:pre;overflow-x:auto;line-height:normal;font-family:Menlo,'DejaVu Sans Mono',consolas,'Courier New',monospace\">How's the 5G network in Stockholm?                                                                                 \n",
       "</pre>\n"
      ],
      "text/plain": [
       "How's the 5G network in Stockholm?                                                                                 \n"
      ]
     },
     "metadata": {},
     "output_type": "display_data"
    },
    {
     "name": "stdout",
     "output_type": "stream",
     "text": [
      "\n",
      "🤖 ASSISTANT\n",
      "------------------------------------------------------------\n"
     ]
    },
    {
     "data": {
      "text/html": [
       "<pre style=\"white-space:pre;overflow-x:auto;line-height:normal;font-family:Menlo,'DejaVu Sans Mono',consolas,'Courier New',monospace\">The 5G network in Stockholm is currently operational with 98.7% coverage.                                          \n",
       "</pre>\n"
      ],
      "text/plain": [
       "The 5G network in Stockholm is currently operational with 98.7% coverage.                                          \n"
      ]
     },
     "metadata": {},
     "output_type": "display_data"
    }
   ],
   "source": [
    "from utils.helper import pretty_print_thread_messages\n",
    "\n",
    "messages = project_client.agents.list_messages(thread_id=thread.id)\n",
    "pretty_print_thread_messages(messages)"
   ]
  },
  {
   "cell_type": "markdown",
   "metadata": {},
   "source": [
    "**Adding new message**"
   ]
  },
  {
   "cell_type": "code",
   "execution_count": 10,
   "metadata": {},
   "outputs": [
    {
     "name": "stdout",
     "output_type": "stream",
     "text": [
      "Created message, ID: msg_fLZFmzvECLm7kDwdFGxwHs07\n",
      "\n"
     ]
    }
   ],
   "source": [
    "message = project_client.agents.create_message(\n",
    "    thread_id=thread.id,\n",
    "    role=\"user\",\n",
    "    content=\"what's the weather in Stockholm?\",\n",
    ")\n",
    "print(f\"Created message, ID: {message.id}\")"
   ]
  },
  {
   "cell_type": "markdown",
   "metadata": {},
   "source": [
    "**Running Agent with Thread**"
   ]
  },
  {
   "cell_type": "code",
   "execution_count": 11,
   "metadata": {},
   "outputs": [
    {
     "name": "stdout",
     "output_type": "stream",
     "text": [
      "Created run, ID: run_3mILps3TG4nB3cdJk5qHkagu\n",
      "\n",
      "Executing tool call: {'id': 'call_q4zT5EbmIcL96qE5LBPIFL6e', 'type': 'function', 'function': {'name': 'fetch_weather', 'arguments': '{\"location\":\"Stockholm\"}'}}\n",
      "Tool outputs: [{'tool_call_id': 'call_q4zT5EbmIcL96qE5LBPIFL6e', 'output': '{\"weather\": \"Snowy, -5\\\\u00b0C\"}'}]\n",
      "Current run status: requires_action\n",
      "Current run status: completed\n",
      "Run completed with status: completed\n"
     ]
    }
   ],
   "source": [
    "import time\n",
    "from azure.ai.projects.models import RequiredFunctionToolCall, SubmitToolOutputsAction, ToolOutput\n",
    "\n",
    "run = project_client.agents.create_run(thread_id=thread.id, agent_id=agent.id)\n",
    "print(f\"Created run, ID: {run.id}\")\n",
    "\n",
    "while run.status in [\"queued\", \"in_progress\", \"requires_action\"]:\n",
    "    time.sleep(1)\n",
    "    run = project_client.agents.get_run(thread_id=thread.id, run_id=run.id)\n",
    "\n",
    "    if run.status == \"requires_action\" and isinstance(run.required_action, SubmitToolOutputsAction):\n",
    "        # When the status is requires_action, your code is responsible for calling the function tools.\n",
    "        tool_calls = run.required_action.submit_tool_outputs.tool_calls\n",
    "        if not tool_calls: # If no tool calls are provided, cancel the run.\n",
    "            print(\"No tool calls provided - cancelling run\")\n",
    "            project_client.agents.cancel_run(thread_id=thread.id, run_id=run.id)\n",
    "            break\n",
    "\n",
    "        tool_outputs = []\n",
    "        for tool_call in tool_calls:\n",
    "            if isinstance(tool_call, RequiredFunctionToolCall):\n",
    "                try:\n",
    "                    print(f\"Executing tool call: {tool_call}\")\n",
    "                    output = functions.execute(tool_call)\n",
    "                    # If the output is not a string, convert it to JSON string\n",
    "                    if not isinstance(output, str):\n",
    "                        output = json.dumps(output)\n",
    "                    tool_outputs.append(\n",
    "                        ToolOutput(\n",
    "                            tool_call_id=tool_call.id,\n",
    "                            output=output,\n",
    "                        )\n",
    "                    )\n",
    "                except Exception as e:\n",
    "                    print(f\"Error executing tool_call {tool_call.id}: {e}\")\n",
    "\n",
    "        print(f\"Tool outputs: {tool_outputs}\")\n",
    "        if tool_outputs:\n",
    "            project_client.agents.submit_tool_outputs_to_run(\n",
    "                thread_id=thread.id, run_id=run.id, tool_outputs=tool_outputs\n",
    "            )\n",
    "    print(f\"Current run status: {run.status}\")\n",
    "print(f\"Run completed with status: {run.status}\")"
   ]
  },
  {
   "cell_type": "code",
   "execution_count": 12,
   "metadata": {},
   "outputs": [
    {
     "name": "stdout",
     "output_type": "stream",
     "text": [
      "\n",
      "👤 USER\n",
      "------------------------------------------------------------\n"
     ]
    },
    {
     "data": {
      "text/html": [
       "<pre style=\"white-space:pre;overflow-x:auto;line-height:normal;font-family:Menlo,'DejaVu Sans Mono',consolas,'Courier New',monospace\">How's the 5G network in Stockholm?                                                                                 \n",
       "</pre>\n"
      ],
      "text/plain": [
       "How's the 5G network in Stockholm?                                                                                 \n"
      ]
     },
     "metadata": {},
     "output_type": "display_data"
    },
    {
     "name": "stdout",
     "output_type": "stream",
     "text": [
      "\n",
      "🤖 ASSISTANT\n",
      "------------------------------------------------------------\n"
     ]
    },
    {
     "data": {
      "text/html": [
       "<pre style=\"white-space:pre;overflow-x:auto;line-height:normal;font-family:Menlo,'DejaVu Sans Mono',consolas,'Courier New',monospace\">The 5G network in Stockholm is currently operational with 98.7% coverage.                                          \n",
       "</pre>\n"
      ],
      "text/plain": [
       "The 5G network in Stockholm is currently operational with 98.7% coverage.                                          \n"
      ]
     },
     "metadata": {},
     "output_type": "display_data"
    },
    {
     "name": "stdout",
     "output_type": "stream",
     "text": [
      "\n",
      "👤 USER\n",
      "------------------------------------------------------------\n"
     ]
    },
    {
     "data": {
      "text/html": [
       "<pre style=\"white-space:pre;overflow-x:auto;line-height:normal;font-family:Menlo,'DejaVu Sans Mono',consolas,'Courier New',monospace\">what's the weather in Stockholm?                                                                                   \n",
       "</pre>\n"
      ],
      "text/plain": [
       "what's the weather in Stockholm?                                                                                   \n"
      ]
     },
     "metadata": {},
     "output_type": "display_data"
    },
    {
     "name": "stdout",
     "output_type": "stream",
     "text": [
      "\n",
      "🤖 ASSISTANT\n",
      "------------------------------------------------------------\n"
     ]
    },
    {
     "data": {
      "text/html": [
       "<pre style=\"white-space:pre;overflow-x:auto;line-height:normal;font-family:Menlo,'DejaVu Sans Mono',consolas,'Courier New',monospace\">The current weather in Stockholm is snowy with a temperature of -5°C.                                              \n",
       "</pre>\n"
      ],
      "text/plain": [
       "The current weather in Stockholm is snowy with a temperature of -5°C.                                              \n"
      ]
     },
     "metadata": {},
     "output_type": "display_data"
    }
   ],
   "source": [
    "from utils.helper import pretty_print_thread_messages\n",
    "\n",
    "messages = project_client.agents.list_messages(thread_id=thread.id)\n",
    "pretty_print_thread_messages(messages)"
   ]
  },
  {
   "cell_type": "markdown",
   "metadata": {},
   "source": [
    "**Delete Agent & Thread**"
   ]
  },
  {
   "cell_type": "code",
   "execution_count": 13,
   "metadata": {},
   "outputs": [
    {
     "name": "stdout",
     "output_type": "stream",
     "text": [
      "Deleted agent\n",
      "\n",
      "thread: thread_SvpMnldBhzd0ZZpynmvGWccW deleted\n"
     ]
    }
   ],
   "source": [
    "# Delete the agent when done\n",
    "project_client.agents.delete_agent(agent.id)\n",
    "print(\"Deleted agent\")\n",
    "\n",
    "# Delete Thread when done\n",
    "project_client.agents.delete_thread(thread_id=thread.id)\n",
    "print(f\"thread: {thread.id} deleted\")"
   ]
  },
  {
   "cell_type": "code",
   "execution_count": null,
   "metadata": {},
   "outputs": [],
   "source": []
  },
  {
   "cell_type": "code",
   "execution_count": null,
   "metadata": {},
   "outputs": [],
   "source": []
  },
  {
   "cell_type": "code",
   "execution_count": null,
   "metadata": {},
   "outputs": [],
   "source": []
  }
 ],
 "metadata": {
  "kernelspec": {
   "display_name": "ericsson-demo",
   "language": "python",
   "name": "python3"
  },
  "language_info": {
   "codemirror_mode": {
    "name": "ipython",
    "version": 3
   },
   "file_extension": ".py",
   "mimetype": "text/x-python",
   "name": "python",
   "nbconvert_exporter": "python",
   "pygments_lexer": "ipython3",
   "version": "3.10.0"
  }
 },
 "nbformat": 4,
 "nbformat_minor": 2
}
